{
  "nbformat": 4,
  "nbformat_minor": 0,
  "metadata": {
    "colab": {
      "provenance": [],
      "collapsed_sections": []
    },
    "kernelspec": {
      "name": "python3",
      "display_name": "Python 3"
    },
    "language_info": {
      "name": "python"
    }
  },
  "cells": [
    {
      "cell_type": "markdown",
      "source": [
        "# 라이브러리 로드"
      ],
      "metadata": {
        "id": "dX22YmRsB8f0"
      }
    },
    {
      "cell_type": "code",
      "execution_count": 1,
      "metadata": {
        "id": "FjelssmqB3gc"
      },
      "outputs": [],
      "source": [
        "import numpy as np\n",
        "import pandas as pd\n",
        "import matplotlib.pyplot as plt\n",
        "\n",
        "from sklearn.model_selection import train_test_split\n",
        "from sklearn.preprocessing import StandardScaler, MinMaxScaler\n",
        "\n",
        "import graphviz\n",
        "from sklearn.tree import DecisionTreeClassifier, export_graphviz\n",
        "from sklearn.ensemble import RandomForestClassifier, ExtraTreesClassifier\n",
        "from xgboost import XGBClassifier\n",
        "\n",
        "from sklearn.model_selection import cross_val_score, cross_validate\n",
        "from sklearn.metrics import accuracy_score, f1_score\n",
        "from xgboost import plot_importance # 중요변수 시각화\n",
        "\n",
        "from sklearn.datasets import load_breast_cancer"
      ]
    },
    {
      "cell_type": "markdown",
      "source": [
        "# 데이터 불러오기"
      ],
      "metadata": {
        "id": "mhYaLCjyB_ac"
      }
    },
    {
      "cell_type": "code",
      "source": [
        "cancer = load_breast_cancer()\n",
        "cancer.keys()"
      ],
      "metadata": {
        "colab": {
          "base_uri": "https://localhost:8080/"
        },
        "id": "B2R7gpT6XMRf",
        "outputId": "7089ff5f-f4e7-45d6-bca0-95c8fd422baf"
      },
      "execution_count": 2,
      "outputs": [
        {
          "output_type": "execute_result",
          "data": {
            "text/plain": [
              "dict_keys(['data', 'target', 'frame', 'target_names', 'DESCR', 'feature_names', 'filename', 'data_module'])"
            ]
          },
          "metadata": {},
          "execution_count": 2
        }
      ]
    },
    {
      "cell_type": "code",
      "source": [
        "df = pd.DataFrame(cancer.data, columns=cancer.feature_names)\n",
        "df['target'] = cancer.target\n",
        "df['target_names'] = cancer.target_names[cancer.target]\n",
        "df.iloc[::100]"
      ],
      "metadata": {
        "id": "TwLADko9B-9G",
        "colab": {
          "base_uri": "https://localhost:8080/",
          "height": 366
        },
        "outputId": "565c5593-18ff-44f2-883d-f3af3a09baa1"
      },
      "execution_count": 3,
      "outputs": [
        {
          "output_type": "execute_result",
          "data": {
            "text/plain": [
              "     mean radius  mean texture  mean perimeter  mean area  mean smoothness  \\\n",
              "0          17.99         10.38          122.80     1001.0          0.11840   \n",
              "100        13.61         24.98           88.05      582.7          0.09488   \n",
              "200        12.23         19.56           78.54      461.0          0.09586   \n",
              "300        19.53         18.90          129.50     1217.0          0.11500   \n",
              "400        17.91         21.02          124.40      994.0          0.12300   \n",
              "500        15.04         16.74           98.73      689.4          0.09883   \n",
              "\n",
              "     mean compactness  mean concavity  mean concave points  mean symmetry  \\\n",
              "0             0.27760         0.30010              0.14710         0.2419   \n",
              "100           0.08511         0.08625              0.04489         0.1609   \n",
              "200           0.08087         0.04187              0.04107         0.1979   \n",
              "300           0.16420         0.21970              0.10620         0.1792   \n",
              "400           0.25760         0.31890              0.11980         0.2113   \n",
              "500           0.13640         0.07721              0.06142         0.1668   \n",
              "\n",
              "     mean fractal dimension  ...  worst perimeter  worst area  \\\n",
              "0                   0.07871  ...           184.60      2019.0   \n",
              "100                 0.05871  ...           108.60       906.5   \n",
              "200                 0.06013  ...            92.15       638.4   \n",
              "300                 0.06552  ...           171.10      2053.0   \n",
              "400                 0.07115  ...           149.60      1304.0   \n",
              "500                 0.06869  ...           109.70       856.9   \n",
              "\n",
              "     worst smoothness  worst compactness  worst concavity  \\\n",
              "0              0.1622             0.6656           0.7119   \n",
              "100            0.1265             0.1943           0.3169   \n",
              "200            0.1429             0.2042           0.1377   \n",
              "300            0.1495             0.4116           0.6121   \n",
              "400            0.1873             0.5917           0.9034   \n",
              "500            0.1135             0.2176           0.1856   \n",
              "\n",
              "     worst concave points  worst symmetry  worst fractal dimension  target  \\\n",
              "0                  0.2654          0.4601                  0.11890       0   \n",
              "100                0.1184          0.2651                  0.07397       0   \n",
              "200                0.1080          0.2668                  0.08174       1   \n",
              "300                0.1980          0.2968                  0.09929       0   \n",
              "400                0.1964          0.3245                  0.11980       0   \n",
              "500                0.1018          0.2177                  0.08549       1   \n",
              "\n",
              "     target_names  \n",
              "0       malignant  \n",
              "100     malignant  \n",
              "200        benign  \n",
              "300     malignant  \n",
              "400     malignant  \n",
              "500        benign  \n",
              "\n",
              "[6 rows x 32 columns]"
            ],
            "text/html": [
              "\n",
              "  <div id=\"df-75181ead-cecb-40dc-b9a3-edcbc7d8577b\">\n",
              "    <div class=\"colab-df-container\">\n",
              "      <div>\n",
              "<style scoped>\n",
              "    .dataframe tbody tr th:only-of-type {\n",
              "        vertical-align: middle;\n",
              "    }\n",
              "\n",
              "    .dataframe tbody tr th {\n",
              "        vertical-align: top;\n",
              "    }\n",
              "\n",
              "    .dataframe thead th {\n",
              "        text-align: right;\n",
              "    }\n",
              "</style>\n",
              "<table border=\"1\" class=\"dataframe\">\n",
              "  <thead>\n",
              "    <tr style=\"text-align: right;\">\n",
              "      <th></th>\n",
              "      <th>mean radius</th>\n",
              "      <th>mean texture</th>\n",
              "      <th>mean perimeter</th>\n",
              "      <th>mean area</th>\n",
              "      <th>mean smoothness</th>\n",
              "      <th>mean compactness</th>\n",
              "      <th>mean concavity</th>\n",
              "      <th>mean concave points</th>\n",
              "      <th>mean symmetry</th>\n",
              "      <th>mean fractal dimension</th>\n",
              "      <th>...</th>\n",
              "      <th>worst perimeter</th>\n",
              "      <th>worst area</th>\n",
              "      <th>worst smoothness</th>\n",
              "      <th>worst compactness</th>\n",
              "      <th>worst concavity</th>\n",
              "      <th>worst concave points</th>\n",
              "      <th>worst symmetry</th>\n",
              "      <th>worst fractal dimension</th>\n",
              "      <th>target</th>\n",
              "      <th>target_names</th>\n",
              "    </tr>\n",
              "  </thead>\n",
              "  <tbody>\n",
              "    <tr>\n",
              "      <th>0</th>\n",
              "      <td>17.99</td>\n",
              "      <td>10.38</td>\n",
              "      <td>122.80</td>\n",
              "      <td>1001.0</td>\n",
              "      <td>0.11840</td>\n",
              "      <td>0.27760</td>\n",
              "      <td>0.30010</td>\n",
              "      <td>0.14710</td>\n",
              "      <td>0.2419</td>\n",
              "      <td>0.07871</td>\n",
              "      <td>...</td>\n",
              "      <td>184.60</td>\n",
              "      <td>2019.0</td>\n",
              "      <td>0.1622</td>\n",
              "      <td>0.6656</td>\n",
              "      <td>0.7119</td>\n",
              "      <td>0.2654</td>\n",
              "      <td>0.4601</td>\n",
              "      <td>0.11890</td>\n",
              "      <td>0</td>\n",
              "      <td>malignant</td>\n",
              "    </tr>\n",
              "    <tr>\n",
              "      <th>100</th>\n",
              "      <td>13.61</td>\n",
              "      <td>24.98</td>\n",
              "      <td>88.05</td>\n",
              "      <td>582.7</td>\n",
              "      <td>0.09488</td>\n",
              "      <td>0.08511</td>\n",
              "      <td>0.08625</td>\n",
              "      <td>0.04489</td>\n",
              "      <td>0.1609</td>\n",
              "      <td>0.05871</td>\n",
              "      <td>...</td>\n",
              "      <td>108.60</td>\n",
              "      <td>906.5</td>\n",
              "      <td>0.1265</td>\n",
              "      <td>0.1943</td>\n",
              "      <td>0.3169</td>\n",
              "      <td>0.1184</td>\n",
              "      <td>0.2651</td>\n",
              "      <td>0.07397</td>\n",
              "      <td>0</td>\n",
              "      <td>malignant</td>\n",
              "    </tr>\n",
              "    <tr>\n",
              "      <th>200</th>\n",
              "      <td>12.23</td>\n",
              "      <td>19.56</td>\n",
              "      <td>78.54</td>\n",
              "      <td>461.0</td>\n",
              "      <td>0.09586</td>\n",
              "      <td>0.08087</td>\n",
              "      <td>0.04187</td>\n",
              "      <td>0.04107</td>\n",
              "      <td>0.1979</td>\n",
              "      <td>0.06013</td>\n",
              "      <td>...</td>\n",
              "      <td>92.15</td>\n",
              "      <td>638.4</td>\n",
              "      <td>0.1429</td>\n",
              "      <td>0.2042</td>\n",
              "      <td>0.1377</td>\n",
              "      <td>0.1080</td>\n",
              "      <td>0.2668</td>\n",
              "      <td>0.08174</td>\n",
              "      <td>1</td>\n",
              "      <td>benign</td>\n",
              "    </tr>\n",
              "    <tr>\n",
              "      <th>300</th>\n",
              "      <td>19.53</td>\n",
              "      <td>18.90</td>\n",
              "      <td>129.50</td>\n",
              "      <td>1217.0</td>\n",
              "      <td>0.11500</td>\n",
              "      <td>0.16420</td>\n",
              "      <td>0.21970</td>\n",
              "      <td>0.10620</td>\n",
              "      <td>0.1792</td>\n",
              "      <td>0.06552</td>\n",
              "      <td>...</td>\n",
              "      <td>171.10</td>\n",
              "      <td>2053.0</td>\n",
              "      <td>0.1495</td>\n",
              "      <td>0.4116</td>\n",
              "      <td>0.6121</td>\n",
              "      <td>0.1980</td>\n",
              "      <td>0.2968</td>\n",
              "      <td>0.09929</td>\n",
              "      <td>0</td>\n",
              "      <td>malignant</td>\n",
              "    </tr>\n",
              "    <tr>\n",
              "      <th>400</th>\n",
              "      <td>17.91</td>\n",
              "      <td>21.02</td>\n",
              "      <td>124.40</td>\n",
              "      <td>994.0</td>\n",
              "      <td>0.12300</td>\n",
              "      <td>0.25760</td>\n",
              "      <td>0.31890</td>\n",
              "      <td>0.11980</td>\n",
              "      <td>0.2113</td>\n",
              "      <td>0.07115</td>\n",
              "      <td>...</td>\n",
              "      <td>149.60</td>\n",
              "      <td>1304.0</td>\n",
              "      <td>0.1873</td>\n",
              "      <td>0.5917</td>\n",
              "      <td>0.9034</td>\n",
              "      <td>0.1964</td>\n",
              "      <td>0.3245</td>\n",
              "      <td>0.11980</td>\n",
              "      <td>0</td>\n",
              "      <td>malignant</td>\n",
              "    </tr>\n",
              "    <tr>\n",
              "      <th>500</th>\n",
              "      <td>15.04</td>\n",
              "      <td>16.74</td>\n",
              "      <td>98.73</td>\n",
              "      <td>689.4</td>\n",
              "      <td>0.09883</td>\n",
              "      <td>0.13640</td>\n",
              "      <td>0.07721</td>\n",
              "      <td>0.06142</td>\n",
              "      <td>0.1668</td>\n",
              "      <td>0.06869</td>\n",
              "      <td>...</td>\n",
              "      <td>109.70</td>\n",
              "      <td>856.9</td>\n",
              "      <td>0.1135</td>\n",
              "      <td>0.2176</td>\n",
              "      <td>0.1856</td>\n",
              "      <td>0.1018</td>\n",
              "      <td>0.2177</td>\n",
              "      <td>0.08549</td>\n",
              "      <td>1</td>\n",
              "      <td>benign</td>\n",
              "    </tr>\n",
              "  </tbody>\n",
              "</table>\n",
              "<p>6 rows × 32 columns</p>\n",
              "</div>\n",
              "      <button class=\"colab-df-convert\" onclick=\"convertToInteractive('df-75181ead-cecb-40dc-b9a3-edcbc7d8577b')\"\n",
              "              title=\"Convert this dataframe to an interactive table.\"\n",
              "              style=\"display:none;\">\n",
              "        \n",
              "  <svg xmlns=\"http://www.w3.org/2000/svg\" height=\"24px\"viewBox=\"0 0 24 24\"\n",
              "       width=\"24px\">\n",
              "    <path d=\"M0 0h24v24H0V0z\" fill=\"none\"/>\n",
              "    <path d=\"M18.56 5.44l.94 2.06.94-2.06 2.06-.94-2.06-.94-.94-2.06-.94 2.06-2.06.94zm-11 1L8.5 8.5l.94-2.06 2.06-.94-2.06-.94L8.5 2.5l-.94 2.06-2.06.94zm10 10l.94 2.06.94-2.06 2.06-.94-2.06-.94-.94-2.06-.94 2.06-2.06.94z\"/><path d=\"M17.41 7.96l-1.37-1.37c-.4-.4-.92-.59-1.43-.59-.52 0-1.04.2-1.43.59L10.3 9.45l-7.72 7.72c-.78.78-.78 2.05 0 2.83L4 21.41c.39.39.9.59 1.41.59.51 0 1.02-.2 1.41-.59l7.78-7.78 2.81-2.81c.8-.78.8-2.07 0-2.86zM5.41 20L4 18.59l7.72-7.72 1.47 1.35L5.41 20z\"/>\n",
              "  </svg>\n",
              "      </button>\n",
              "      \n",
              "  <style>\n",
              "    .colab-df-container {\n",
              "      display:flex;\n",
              "      flex-wrap:wrap;\n",
              "      gap: 12px;\n",
              "    }\n",
              "\n",
              "    .colab-df-convert {\n",
              "      background-color: #E8F0FE;\n",
              "      border: none;\n",
              "      border-radius: 50%;\n",
              "      cursor: pointer;\n",
              "      display: none;\n",
              "      fill: #1967D2;\n",
              "      height: 32px;\n",
              "      padding: 0 0 0 0;\n",
              "      width: 32px;\n",
              "    }\n",
              "\n",
              "    .colab-df-convert:hover {\n",
              "      background-color: #E2EBFA;\n",
              "      box-shadow: 0px 1px 2px rgba(60, 64, 67, 0.3), 0px 1px 3px 1px rgba(60, 64, 67, 0.15);\n",
              "      fill: #174EA6;\n",
              "    }\n",
              "\n",
              "    [theme=dark] .colab-df-convert {\n",
              "      background-color: #3B4455;\n",
              "      fill: #D2E3FC;\n",
              "    }\n",
              "\n",
              "    [theme=dark] .colab-df-convert:hover {\n",
              "      background-color: #434B5C;\n",
              "      box-shadow: 0px 1px 3px 1px rgba(0, 0, 0, 0.15);\n",
              "      filter: drop-shadow(0px 1px 2px rgba(0, 0, 0, 0.3));\n",
              "      fill: #FFFFFF;\n",
              "    }\n",
              "  </style>\n",
              "\n",
              "      <script>\n",
              "        const buttonEl =\n",
              "          document.querySelector('#df-75181ead-cecb-40dc-b9a3-edcbc7d8577b button.colab-df-convert');\n",
              "        buttonEl.style.display =\n",
              "          google.colab.kernel.accessAllowed ? 'block' : 'none';\n",
              "\n",
              "        async function convertToInteractive(key) {\n",
              "          const element = document.querySelector('#df-75181ead-cecb-40dc-b9a3-edcbc7d8577b');\n",
              "          const dataTable =\n",
              "            await google.colab.kernel.invokeFunction('convertToInteractive',\n",
              "                                                     [key], {});\n",
              "          if (!dataTable) return;\n",
              "\n",
              "          const docLinkHtml = 'Like what you see? Visit the ' +\n",
              "            '<a target=\"_blank\" href=https://colab.research.google.com/notebooks/data_table.ipynb>data table notebook</a>'\n",
              "            + ' to learn more about interactive tables.';\n",
              "          element.innerHTML = '';\n",
              "          dataTable['output_type'] = 'display_data';\n",
              "          await google.colab.output.renderOutput(dataTable, element);\n",
              "          const docLink = document.createElement('div');\n",
              "          docLink.innerHTML = docLinkHtml;\n",
              "          element.appendChild(docLink);\n",
              "        }\n",
              "      </script>\n",
              "    </div>\n",
              "  </div>\n",
              "  "
            ]
          },
          "metadata": {},
          "execution_count": 3
        }
      ]
    },
    {
      "cell_type": "markdown",
      "source": [
        "데이터 설명\n",
        "* 가나다라마바사"
      ],
      "metadata": {
        "id": "8P7XO1ihZ_tX"
      }
    },
    {
      "cell_type": "markdown",
      "source": [
        "# 전처리"
      ],
      "metadata": {
        "id": "U62681u4W6Xn"
      }
    },
    {
      "cell_type": "markdown",
      "source": [
        "## 결측치 파악"
      ],
      "metadata": {
        "id": "P5CaB52OZB1-"
      }
    },
    {
      "cell_type": "code",
      "source": [],
      "metadata": {
        "id": "WzvZ1sZwZU_0"
      },
      "execution_count": 3,
      "outputs": []
    },
    {
      "cell_type": "markdown",
      "source": [
        "# 데이터 정제 및 파생변수 생성"
      ],
      "metadata": {
        "id": "9KK8jwGlaHnf"
      }
    },
    {
      "cell_type": "code",
      "source": [],
      "metadata": {
        "id": "GhBlj2l7aHSm"
      },
      "execution_count": 3,
      "outputs": []
    },
    {
      "cell_type": "code",
      "source": [],
      "metadata": {
        "id": "dOvYjH0caK-H"
      },
      "execution_count": 3,
      "outputs": []
    },
    {
      "cell_type": "markdown",
      "source": [
        "## 스케일링"
      ],
      "metadata": {
        "id": "mq7NCvhhZaBG"
      }
    },
    {
      "cell_type": "code",
      "source": [
        "# Tree계열 쓴다면 생략."
      ],
      "metadata": {
        "id": "ZGlB-9gvZbRa"
      },
      "execution_count": 4,
      "outputs": []
    },
    {
      "cell_type": "markdown",
      "source": [
        "## 분할"
      ],
      "metadata": {
        "id": "YjTvqi-DY_3O"
      }
    },
    {
      "cell_type": "code",
      "source": [
        "X_train, X_test, y_train, y_test = train_test_split(cancer.data, cancer.target)\n",
        "print(X_train.shape, y_train.shape)\n",
        "print(X_test.shape, y_test.shape)"
      ],
      "metadata": {
        "colab": {
          "base_uri": "https://localhost:8080/"
        },
        "id": "dDpr2VpPW7uW",
        "outputId": "751a7bb6-9e60-4c8f-aac6-5319208f0f57"
      },
      "execution_count": 5,
      "outputs": [
        {
          "output_type": "stream",
          "name": "stdout",
          "text": [
            "(426, 30) (426,)\n",
            "(143, 30) (143,)\n"
          ]
        }
      ]
    },
    {
      "cell_type": "markdown",
      "source": [
        "# 모델 학습"
      ],
      "metadata": {
        "id": "K6nWOFH9W76O"
      }
    },
    {
      "cell_type": "code",
      "source": [
        "decision_tree_model = DecisionTreeClassifier()\n",
        "decision_tree_model.fit(X_train, y_train)\n",
        "cross_val = cross_validate(estimator=decision_tree_model, X=X_train, y=y_train, cv=5)\n",
        "\n",
        "print(f\"average test score : {cross_val['test_score'].mean()}\")"
      ],
      "metadata": {
        "colab": {
          "base_uri": "https://localhost:8080/"
        },
        "id": "PrmHGEiqW9so",
        "outputId": "e37cfd69-d855-4c54-936b-803804962d8b"
      },
      "execution_count": 6,
      "outputs": [
        {
          "output_type": "stream",
          "name": "stdout",
          "text": [
            "average test score : 0.9365253077975376\n"
          ]
        }
      ]
    },
    {
      "cell_type": "code",
      "source": [
        "rf_model = RandomForestClassifier()\n",
        "cross_val = cross_validate(estimator=rf_model, X=X_train, y=y_train, cv=5)\n",
        "print(f\"average test score :\", cross_val['test_score'].mean())"
      ],
      "metadata": {
        "colab": {
          "base_uri": "https://localhost:8080/"
        },
        "id": "53dAn1NTcqsW",
        "outputId": "1db18e20-1e6b-49a4-e23f-1c87ea23fb9b"
      },
      "execution_count": 7,
      "outputs": [
        {
          "output_type": "stream",
          "name": "stdout",
          "text": [
            "average test score : 0.9670861833105336\n"
          ]
        }
      ]
    },
    {
      "cell_type": "code",
      "source": [
        "et_model = ExtraTreesClassifier()\n",
        "cross_val = cross_validate(estimator=et_model, X=X_train, y=y_train, cv=5)\n",
        "print(f\"average test score :\", cross_val['test_score'].mean())"
      ],
      "metadata": {
        "colab": {
          "base_uri": "https://localhost:8080/"
        },
        "id": "xQxsVEk2dAGg",
        "outputId": "5eeab3a2-9f84-4b22-acdd-0c54d5dac13f"
      },
      "execution_count": 8,
      "outputs": [
        {
          "output_type": "stream",
          "name": "stdout",
          "text": [
            "average test score : 0.9670588235294119\n"
          ]
        }
      ]
    },
    {
      "cell_type": "code",
      "source": [
        "xgb_model = XGBClassifier()\n",
        "cross_val = cross_validate(estimator=xgb_model, X=X_train, y=y_train, cv=5)\n",
        "print(f\"average test score :\", cross_val['test_score'].mean())"
      ],
      "metadata": {
        "colab": {
          "base_uri": "https://localhost:8080/"
        },
        "id": "zrkPHCiidEaH",
        "outputId": "7551e7aa-0127-4b5a-c245-ae8af959875d"
      },
      "execution_count": 9,
      "outputs": [
        {
          "output_type": "stream",
          "name": "stdout",
          "text": [
            "average test score : 0.9670588235294117\n"
          ]
        }
      ]
    },
    {
      "cell_type": "code",
      "source": [
        "# 최종 모델 학습\n",
        "\n",
        "decision_tree_model.fit(X_train, y_train)\n",
        "decision_tree_model.score(X_train, y_train), decision_tree_model.score(X_test, y_test)"
      ],
      "metadata": {
        "colab": {
          "base_uri": "https://localhost:8080/"
        },
        "id": "z4NBX2a6eOCu",
        "outputId": "fef5d118-ae26-4ba4-afad-554d67ad5114"
      },
      "execution_count": 10,
      "outputs": [
        {
          "output_type": "execute_result",
          "data": {
            "text/plain": [
              "(1.0, 0.958041958041958)"
            ]
          },
          "metadata": {},
          "execution_count": 10
        }
      ]
    },
    {
      "cell_type": "code",
      "source": [
        "rf_model.fit(X_train, y_train)\n",
        "rf_model.score(X_train, y_train), rf_model.score(X_test, y_test)"
      ],
      "metadata": {
        "colab": {
          "base_uri": "https://localhost:8080/"
        },
        "id": "_KubuCw1ee8A",
        "outputId": "56f9d353-0923-4956-bb06-9d4cc5bdee6d"
      },
      "execution_count": 11,
      "outputs": [
        {
          "output_type": "execute_result",
          "data": {
            "text/plain": [
              "(1.0, 0.965034965034965)"
            ]
          },
          "metadata": {},
          "execution_count": 11
        }
      ]
    },
    {
      "cell_type": "code",
      "source": [
        "et_model.fit(X_train, y_train)\n",
        "et_model.score(X_train, y_train), et_model.score(X_test, y_test)"
      ],
      "metadata": {
        "colab": {
          "base_uri": "https://localhost:8080/"
        },
        "id": "T0dkYKzCegBA",
        "outputId": "3890364a-f651-46ae-8a2a-ef283623e9db"
      },
      "execution_count": 12,
      "outputs": [
        {
          "output_type": "execute_result",
          "data": {
            "text/plain": [
              "(1.0, 0.965034965034965)"
            ]
          },
          "metadata": {},
          "execution_count": 12
        }
      ]
    },
    {
      "cell_type": "code",
      "source": [
        "xgb_model.fit(X_train, y_train)\n",
        "xgb_model.score(X_train, y_train), xgb_model.score(X_test, y_test)"
      ],
      "metadata": {
        "colab": {
          "base_uri": "https://localhost:8080/"
        },
        "id": "bQZD7vUOegsd",
        "outputId": "17f02c1d-e5c8-4f74-8eee-23f484f64479"
      },
      "execution_count": 13,
      "outputs": [
        {
          "output_type": "execute_result",
          "data": {
            "text/plain": [
              "(1.0, 0.965034965034965)"
            ]
          },
          "metadata": {},
          "execution_count": 13
        }
      ]
    },
    {
      "cell_type": "markdown",
      "source": [
        "# 해석"
      ],
      "metadata": {
        "id": "eclO8foVW98-"
      }
    },
    {
      "cell_type": "code",
      "source": [
        "dot_data = export_graphviz(decision_tree=decision_tree_model,\n",
        "                           feature_names=cancer.feature_names,\n",
        "                           filled=True,\n",
        "                           rounded=True,\n",
        "                           class_names=cancer.target_names\n",
        "                           )\n",
        "graph = graphviz.Source(dot_data)\n",
        "graph"
      ],
      "metadata": {
        "colab": {
          "base_uri": "https://localhost:8080/",
          "height": 1000
        },
        "id": "YOlE5mKJW-OW",
        "outputId": "813f6819-74fe-47ef-b690-025dbee4ff7b"
      },
      "execution_count": 15,
      "outputs": [
        {
          "output_type": "execute_result",
          "data": {
            "text/plain": [
              "<graphviz.files.Source at 0x7ff8ddc49ad0>"
            ],
            "image/svg+xml": "<?xml version=\"1.0\" encoding=\"UTF-8\" standalone=\"no\"?>\n<!DOCTYPE svg PUBLIC \"-//W3C//DTD SVG 1.1//EN\"\n \"http://www.w3.org/Graphics/SVG/1.1/DTD/svg11.dtd\">\n<!-- Generated by graphviz version 2.40.1 (20161225.0304)\n -->\n<!-- Title: Tree Pages: 1 -->\n<svg width=\"1543pt\" height=\"909pt\"\n viewBox=\"0.00 0.00 1542.50 909.00\" xmlns=\"http://www.w3.org/2000/svg\" xmlns:xlink=\"http://www.w3.org/1999/xlink\">\n<g id=\"graph0\" class=\"graph\" transform=\"scale(1 1) rotate(0) translate(4 905)\">\n<title>Tree</title>\n<polygon fill=\"#ffffff\" stroke=\"transparent\" points=\"-4,4 -4,-905 1538.5,-905 1538.5,4 -4,4\"/>\n<!-- 0 -->\n<g id=\"node1\" class=\"node\">\n<title>0</title>\n<path fill=\"#b2d9f5\" stroke=\"#000000\" d=\"M1217.5,-901C1217.5,-901 1088.5,-901 1088.5,-901 1082.5,-901 1076.5,-895 1076.5,-889 1076.5,-889 1076.5,-830 1076.5,-830 1076.5,-824 1082.5,-818 1088.5,-818 1088.5,-818 1217.5,-818 1217.5,-818 1223.5,-818 1229.5,-824 1229.5,-830 1229.5,-830 1229.5,-889 1229.5,-889 1229.5,-895 1223.5,-901 1217.5,-901\"/>\n<text text-anchor=\"middle\" x=\"1153\" y=\"-885.8\" font-family=\"Helvetica,sans-Serif\" font-size=\"14.00\" fill=\"#000000\">worst area &lt;= 874.85</text>\n<text text-anchor=\"middle\" x=\"1153\" y=\"-870.8\" font-family=\"Helvetica,sans-Serif\" font-size=\"14.00\" fill=\"#000000\">gini = 0.471</text>\n<text text-anchor=\"middle\" x=\"1153\" y=\"-855.8\" font-family=\"Helvetica,sans-Serif\" font-size=\"14.00\" fill=\"#000000\">samples = 426</text>\n<text text-anchor=\"middle\" x=\"1153\" y=\"-840.8\" font-family=\"Helvetica,sans-Serif\" font-size=\"14.00\" fill=\"#000000\">value = [162, 264]</text>\n<text text-anchor=\"middle\" x=\"1153\" y=\"-825.8\" font-family=\"Helvetica,sans-Serif\" font-size=\"14.00\" fill=\"#000000\">class = benign</text>\n</g>\n<!-- 1 -->\n<g id=\"node2\" class=\"node\">\n<title>1</title>\n<path fill=\"#50a8e8\" stroke=\"#000000\" d=\"M1055,-782C1055,-782 865,-782 865,-782 859,-782 853,-776 853,-770 853,-770 853,-711 853,-711 853,-705 859,-699 865,-699 865,-699 1055,-699 1055,-699 1061,-699 1067,-705 1067,-711 1067,-711 1067,-770 1067,-770 1067,-776 1061,-782 1055,-782\"/>\n<text text-anchor=\"middle\" x=\"960\" y=\"-766.8\" font-family=\"Helvetica,sans-Serif\" font-size=\"14.00\" fill=\"#000000\">worst concave points &lt;= 0.132</text>\n<text text-anchor=\"middle\" x=\"960\" y=\"-751.8\" font-family=\"Helvetica,sans-Serif\" font-size=\"14.00\" fill=\"#000000\">gini = 0.185</text>\n<text text-anchor=\"middle\" x=\"960\" y=\"-736.8\" font-family=\"Helvetica,sans-Serif\" font-size=\"14.00\" fill=\"#000000\">samples = 291</text>\n<text text-anchor=\"middle\" x=\"960\" y=\"-721.8\" font-family=\"Helvetica,sans-Serif\" font-size=\"14.00\" fill=\"#000000\">value = [30, 261]</text>\n<text text-anchor=\"middle\" x=\"960\" y=\"-706.8\" font-family=\"Helvetica,sans-Serif\" font-size=\"14.00\" fill=\"#000000\">class = benign</text>\n</g>\n<!-- 0&#45;&gt;1 -->\n<g id=\"edge1\" class=\"edge\">\n<title>0&#45;&gt;1</title>\n<path fill=\"none\" stroke=\"#000000\" d=\"M1085.498,-817.8796C1069.6308,-808.0962 1052.6106,-797.6019 1036.3844,-787.5971\"/>\n<polygon fill=\"#000000\" stroke=\"#000000\" points=\"1037.8129,-784.3661 1027.4639,-782.0969 1034.139,-790.3245 1037.8129,-784.3661\"/>\n<text text-anchor=\"middle\" x=\"1033.2334\" y=\"-802.7221\" font-family=\"Helvetica,sans-Serif\" font-size=\"14.00\" fill=\"#000000\">True</text>\n</g>\n<!-- 32 -->\n<g id=\"node33\" class=\"node\">\n<title>32</title>\n<path fill=\"#e6843d\" stroke=\"#000000\" d=\"M1327,-782C1327,-782 1189,-782 1189,-782 1183,-782 1177,-776 1177,-770 1177,-770 1177,-711 1177,-711 1177,-705 1183,-699 1189,-699 1189,-699 1327,-699 1327,-699 1333,-699 1339,-705 1339,-711 1339,-711 1339,-770 1339,-770 1339,-776 1333,-782 1327,-782\"/>\n<text text-anchor=\"middle\" x=\"1258\" y=\"-766.8\" font-family=\"Helvetica,sans-Serif\" font-size=\"14.00\" fill=\"#000000\">mean texture &lt;= 14.99</text>\n<text text-anchor=\"middle\" x=\"1258\" y=\"-751.8\" font-family=\"Helvetica,sans-Serif\" font-size=\"14.00\" fill=\"#000000\">gini = 0.043</text>\n<text text-anchor=\"middle\" x=\"1258\" y=\"-736.8\" font-family=\"Helvetica,sans-Serif\" font-size=\"14.00\" fill=\"#000000\">samples = 135</text>\n<text text-anchor=\"middle\" x=\"1258\" y=\"-721.8\" font-family=\"Helvetica,sans-Serif\" font-size=\"14.00\" fill=\"#000000\">value = [132, 3]</text>\n<text text-anchor=\"middle\" x=\"1258\" y=\"-706.8\" font-family=\"Helvetica,sans-Serif\" font-size=\"14.00\" fill=\"#000000\">class = malignant</text>\n</g>\n<!-- 0&#45;&gt;32 -->\n<g id=\"edge32\" class=\"edge\">\n<title>0&#45;&gt;32</title>\n<path fill=\"none\" stroke=\"#000000\" d=\"M1189.7239,-817.8796C1197.6707,-808.8733 1206.149,-799.2644 1214.3326,-789.9897\"/>\n<polygon fill=\"#000000\" stroke=\"#000000\" points=\"1217.1275,-792.1122 1221.1193,-782.2981 1211.8787,-787.4808 1217.1275,-792.1122\"/>\n<text text-anchor=\"middle\" x=\"1222.6788\" y=\"-803.5494\" font-family=\"Helvetica,sans-Serif\" font-size=\"14.00\" fill=\"#000000\">False</text>\n</g>\n<!-- 2 -->\n<g id=\"node3\" class=\"node\">\n<title>2</title>\n<path fill=\"#3c9fe5\" stroke=\"#000000\" d=\"M560,-663C560,-663 410,-663 410,-663 404,-663 398,-657 398,-651 398,-651 398,-592 398,-592 398,-586 404,-580 410,-580 410,-580 560,-580 560,-580 566,-580 572,-586 572,-592 572,-592 572,-651 572,-651 572,-657 566,-663 560,-663\"/>\n<text text-anchor=\"middle\" x=\"485\" y=\"-647.8\" font-family=\"Helvetica,sans-Serif\" font-size=\"14.00\" fill=\"#000000\">symmetry error &lt;= 0.009</text>\n<text text-anchor=\"middle\" x=\"485\" y=\"-632.8\" font-family=\"Helvetica,sans-Serif\" font-size=\"14.00\" fill=\"#000000\">gini = 0.032</text>\n<text text-anchor=\"middle\" x=\"485\" y=\"-617.8\" font-family=\"Helvetica,sans-Serif\" font-size=\"14.00\" fill=\"#000000\">samples = 246</text>\n<text text-anchor=\"middle\" x=\"485\" y=\"-602.8\" font-family=\"Helvetica,sans-Serif\" font-size=\"14.00\" fill=\"#000000\">value = [4, 242]</text>\n<text text-anchor=\"middle\" x=\"485\" y=\"-587.8\" font-family=\"Helvetica,sans-Serif\" font-size=\"14.00\" fill=\"#000000\">class = benign</text>\n</g>\n<!-- 1&#45;&gt;2 -->\n<g id=\"edge2\" class=\"edge\">\n<title>1&#45;&gt;2</title>\n<path fill=\"none\" stroke=\"#000000\" d=\"M852.8085,-713.6457C771.5948,-693.2995 660.9379,-665.5771 582.2659,-645.8677\"/>\n<polygon fill=\"#000000\" stroke=\"#000000\" points=\"582.9027,-642.4191 572.3519,-643.384 581.2016,-649.2093 582.9027,-642.4191\"/>\n</g>\n<!-- 15 -->\n<g id=\"node16\" class=\"node\">\n<title>15</title>\n<path fill=\"#f8ddca\" stroke=\"#000000\" d=\"M1028,-663C1028,-663 892,-663 892,-663 886,-663 880,-657 880,-651 880,-651 880,-592 880,-592 880,-586 886,-580 892,-580 892,-580 1028,-580 1028,-580 1034,-580 1040,-586 1040,-592 1040,-592 1040,-651 1040,-651 1040,-657 1034,-663 1028,-663\"/>\n<text text-anchor=\"middle\" x=\"960\" y=\"-647.8\" font-family=\"Helvetica,sans-Serif\" font-size=\"14.00\" fill=\"#000000\">worst texture &lt;= 25.67</text>\n<text text-anchor=\"middle\" x=\"960\" y=\"-632.8\" font-family=\"Helvetica,sans-Serif\" font-size=\"14.00\" fill=\"#000000\">gini = 0.488</text>\n<text text-anchor=\"middle\" x=\"960\" y=\"-617.8\" font-family=\"Helvetica,sans-Serif\" font-size=\"14.00\" fill=\"#000000\">samples = 45</text>\n<text text-anchor=\"middle\" x=\"960\" y=\"-602.8\" font-family=\"Helvetica,sans-Serif\" font-size=\"14.00\" fill=\"#000000\">value = [26, 19]</text>\n<text text-anchor=\"middle\" x=\"960\" y=\"-587.8\" font-family=\"Helvetica,sans-Serif\" font-size=\"14.00\" fill=\"#000000\">class = malignant</text>\n</g>\n<!-- 1&#45;&gt;15 -->\n<g id=\"edge15\" class=\"edge\">\n<title>1&#45;&gt;15</title>\n<path fill=\"none\" stroke=\"#000000\" d=\"M960,-698.8796C960,-690.6838 960,-681.9891 960,-673.5013\"/>\n<polygon fill=\"#000000\" stroke=\"#000000\" points=\"963.5001,-673.298 960,-663.2981 956.5001,-673.2981 963.5001,-673.298\"/>\n</g>\n<!-- 3 -->\n<g id=\"node4\" class=\"node\">\n<title>3</title>\n<path fill=\"#e58139\" stroke=\"#000000\" d=\"M379.5,-536.5C379.5,-536.5 274.5,-536.5 274.5,-536.5 268.5,-536.5 262.5,-530.5 262.5,-524.5 262.5,-524.5 262.5,-480.5 262.5,-480.5 262.5,-474.5 268.5,-468.5 274.5,-468.5 274.5,-468.5 379.5,-468.5 379.5,-468.5 385.5,-468.5 391.5,-474.5 391.5,-480.5 391.5,-480.5 391.5,-524.5 391.5,-524.5 391.5,-530.5 385.5,-536.5 379.5,-536.5\"/>\n<text text-anchor=\"middle\" x=\"327\" y=\"-521.3\" font-family=\"Helvetica,sans-Serif\" font-size=\"14.00\" fill=\"#000000\">gini = 0.0</text>\n<text text-anchor=\"middle\" x=\"327\" y=\"-506.3\" font-family=\"Helvetica,sans-Serif\" font-size=\"14.00\" fill=\"#000000\">samples = 1</text>\n<text text-anchor=\"middle\" x=\"327\" y=\"-491.3\" font-family=\"Helvetica,sans-Serif\" font-size=\"14.00\" fill=\"#000000\">value = [1, 0]</text>\n<text text-anchor=\"middle\" x=\"327\" y=\"-476.3\" font-family=\"Helvetica,sans-Serif\" font-size=\"14.00\" fill=\"#000000\">class = malignant</text>\n</g>\n<!-- 2&#45;&gt;3 -->\n<g id=\"edge3\" class=\"edge\">\n<title>2&#45;&gt;3</title>\n<path fill=\"none\" stroke=\"#000000\" d=\"M429.7393,-579.8796C413.7497,-567.8368 396.3297,-554.7167 380.4526,-542.7586\"/>\n<polygon fill=\"#000000\" stroke=\"#000000\" points=\"382.3998,-539.8435 372.3062,-536.623 378.1884,-545.435 382.3998,-539.8435\"/>\n</g>\n<!-- 4 -->\n<g id=\"node5\" class=\"node\">\n<title>4</title>\n<path fill=\"#3b9ee5\" stroke=\"#000000\" d=\"M548.5,-544C548.5,-544 421.5,-544 421.5,-544 415.5,-544 409.5,-538 409.5,-532 409.5,-532 409.5,-473 409.5,-473 409.5,-467 415.5,-461 421.5,-461 421.5,-461 548.5,-461 548.5,-461 554.5,-461 560.5,-467 560.5,-473 560.5,-473 560.5,-532 560.5,-532 560.5,-538 554.5,-544 548.5,-544\"/>\n<text text-anchor=\"middle\" x=\"485\" y=\"-528.8\" font-family=\"Helvetica,sans-Serif\" font-size=\"14.00\" fill=\"#000000\">radius error &lt;= 0.643</text>\n<text text-anchor=\"middle\" x=\"485\" y=\"-513.8\" font-family=\"Helvetica,sans-Serif\" font-size=\"14.00\" fill=\"#000000\">gini = 0.024</text>\n<text text-anchor=\"middle\" x=\"485\" y=\"-498.8\" font-family=\"Helvetica,sans-Serif\" font-size=\"14.00\" fill=\"#000000\">samples = 245</text>\n<text text-anchor=\"middle\" x=\"485\" y=\"-483.8\" font-family=\"Helvetica,sans-Serif\" font-size=\"14.00\" fill=\"#000000\">value = [3, 242]</text>\n<text text-anchor=\"middle\" x=\"485\" y=\"-468.8\" font-family=\"Helvetica,sans-Serif\" font-size=\"14.00\" fill=\"#000000\">class = benign</text>\n</g>\n<!-- 2&#45;&gt;4 -->\n<g id=\"edge4\" class=\"edge\">\n<title>2&#45;&gt;4</title>\n<path fill=\"none\" stroke=\"#000000\" d=\"M485,-579.8796C485,-571.6838 485,-562.9891 485,-554.5013\"/>\n<polygon fill=\"#000000\" stroke=\"#000000\" points=\"488.5001,-554.298 485,-544.2981 481.5001,-554.2981 488.5001,-554.298\"/>\n</g>\n<!-- 5 -->\n<g id=\"node6\" class=\"node\">\n<title>5</title>\n<path fill=\"#3b9ee5\" stroke=\"#000000\" d=\"M303.5,-425C303.5,-425 174.5,-425 174.5,-425 168.5,-425 162.5,-419 162.5,-413 162.5,-413 162.5,-354 162.5,-354 162.5,-348 168.5,-342 174.5,-342 174.5,-342 303.5,-342 303.5,-342 309.5,-342 315.5,-348 315.5,-354 315.5,-354 315.5,-413 315.5,-413 315.5,-419 309.5,-425 303.5,-425\"/>\n<text text-anchor=\"middle\" x=\"239\" y=\"-409.8\" font-family=\"Helvetica,sans-Serif\" font-size=\"14.00\" fill=\"#000000\">worst area &lt;= 785.75</text>\n<text text-anchor=\"middle\" x=\"239\" y=\"-394.8\" font-family=\"Helvetica,sans-Serif\" font-size=\"14.00\" fill=\"#000000\">gini = 0.016</text>\n<text text-anchor=\"middle\" x=\"239\" y=\"-379.8\" font-family=\"Helvetica,sans-Serif\" font-size=\"14.00\" fill=\"#000000\">samples = 242</text>\n<text text-anchor=\"middle\" x=\"239\" y=\"-364.8\" font-family=\"Helvetica,sans-Serif\" font-size=\"14.00\" fill=\"#000000\">value = [2, 240]</text>\n<text text-anchor=\"middle\" x=\"239\" y=\"-349.8\" font-family=\"Helvetica,sans-Serif\" font-size=\"14.00\" fill=\"#000000\">class = benign</text>\n</g>\n<!-- 4&#45;&gt;5 -->\n<g id=\"edge5\" class=\"edge\">\n<title>4&#45;&gt;5</title>\n<path fill=\"none\" stroke=\"#000000\" d=\"M409.4669,-465.5951C406.2692,-464.0412 403.1032,-462.5044 400,-461 375.6195,-449.1804 349.1344,-436.4048 324.8186,-424.7013\"/>\n<polygon fill=\"#000000\" stroke=\"#000000\" points=\"326.1432,-421.4546 315.6145,-420.2726 323.1081,-427.7624 326.1432,-421.4546\"/>\n</g>\n<!-- 12 -->\n<g id=\"node13\" class=\"node\">\n<title>12</title>\n<path fill=\"#9ccef2\" stroke=\"#000000\" d=\"M563.5,-425C563.5,-425 406.5,-425 406.5,-425 400.5,-425 394.5,-419 394.5,-413 394.5,-413 394.5,-354 394.5,-354 394.5,-348 400.5,-342 406.5,-342 406.5,-342 563.5,-342 563.5,-342 569.5,-342 575.5,-348 575.5,-354 575.5,-354 575.5,-413 575.5,-413 575.5,-419 569.5,-425 563.5,-425\"/>\n<text text-anchor=\"middle\" x=\"485\" y=\"-409.8\" font-family=\"Helvetica,sans-Serif\" font-size=\"14.00\" fill=\"#000000\">mean symmetry &lt;= 0.166</text>\n<text text-anchor=\"middle\" x=\"485\" y=\"-394.8\" font-family=\"Helvetica,sans-Serif\" font-size=\"14.00\" fill=\"#000000\">gini = 0.444</text>\n<text text-anchor=\"middle\" x=\"485\" y=\"-379.8\" font-family=\"Helvetica,sans-Serif\" font-size=\"14.00\" fill=\"#000000\">samples = 3</text>\n<text text-anchor=\"middle\" x=\"485\" y=\"-364.8\" font-family=\"Helvetica,sans-Serif\" font-size=\"14.00\" fill=\"#000000\">value = [1, 2]</text>\n<text text-anchor=\"middle\" x=\"485\" y=\"-349.8\" font-family=\"Helvetica,sans-Serif\" font-size=\"14.00\" fill=\"#000000\">class = benign</text>\n</g>\n<!-- 4&#45;&gt;12 -->\n<g id=\"edge12\" class=\"edge\">\n<title>4&#45;&gt;12</title>\n<path fill=\"none\" stroke=\"#000000\" d=\"M485,-460.8796C485,-452.6838 485,-443.9891 485,-435.5013\"/>\n<polygon fill=\"#000000\" stroke=\"#000000\" points=\"488.5001,-435.298 485,-425.2981 481.5001,-435.2981 488.5001,-435.298\"/>\n</g>\n<!-- 6 -->\n<g id=\"node7\" class=\"node\">\n<title>6</title>\n<path fill=\"#399de5\" stroke=\"#000000\" d=\"M104,-298.5C104,-298.5 12,-298.5 12,-298.5 6,-298.5 0,-292.5 0,-286.5 0,-286.5 0,-242.5 0,-242.5 0,-236.5 6,-230.5 12,-230.5 12,-230.5 104,-230.5 104,-230.5 110,-230.5 116,-236.5 116,-242.5 116,-242.5 116,-286.5 116,-286.5 116,-292.5 110,-298.5 104,-298.5\"/>\n<text text-anchor=\"middle\" x=\"58\" y=\"-283.3\" font-family=\"Helvetica,sans-Serif\" font-size=\"14.00\" fill=\"#000000\">gini = 0.0</text>\n<text text-anchor=\"middle\" x=\"58\" y=\"-268.3\" font-family=\"Helvetica,sans-Serif\" font-size=\"14.00\" fill=\"#000000\">samples = 223</text>\n<text text-anchor=\"middle\" x=\"58\" y=\"-253.3\" font-family=\"Helvetica,sans-Serif\" font-size=\"14.00\" fill=\"#000000\">value = [0, 223]</text>\n<text text-anchor=\"middle\" x=\"58\" y=\"-238.3\" font-family=\"Helvetica,sans-Serif\" font-size=\"14.00\" fill=\"#000000\">class = benign</text>\n</g>\n<!-- 5&#45;&gt;6 -->\n<g id=\"edge6\" class=\"edge\">\n<title>5&#45;&gt;6</title>\n<path fill=\"none\" stroke=\"#000000\" d=\"M175.695,-341.8796C157.2097,-329.7263 137.0557,-316.4759 118.7335,-304.4297\"/>\n<polygon fill=\"#000000\" stroke=\"#000000\" points=\"120.1801,-301.1921 109.9014,-298.623 116.3345,-307.0412 120.1801,-301.1921\"/>\n</g>\n<!-- 7 -->\n<g id=\"node8\" class=\"node\">\n<title>7</title>\n<path fill=\"#50a9e8\" stroke=\"#000000\" d=\"M331.5,-306C331.5,-306 146.5,-306 146.5,-306 140.5,-306 134.5,-300 134.5,-294 134.5,-294 134.5,-235 134.5,-235 134.5,-229 140.5,-223 146.5,-223 146.5,-223 331.5,-223 331.5,-223 337.5,-223 343.5,-229 343.5,-235 343.5,-235 343.5,-294 343.5,-294 343.5,-300 337.5,-306 331.5,-306\"/>\n<text text-anchor=\"middle\" x=\"239\" y=\"-290.8\" font-family=\"Helvetica,sans-Serif\" font-size=\"14.00\" fill=\"#000000\">concave points error &lt;= 0.017</text>\n<text text-anchor=\"middle\" x=\"239\" y=\"-275.8\" font-family=\"Helvetica,sans-Serif\" font-size=\"14.00\" fill=\"#000000\">gini = 0.188</text>\n<text text-anchor=\"middle\" x=\"239\" y=\"-260.8\" font-family=\"Helvetica,sans-Serif\" font-size=\"14.00\" fill=\"#000000\">samples = 19</text>\n<text text-anchor=\"middle\" x=\"239\" y=\"-245.8\" font-family=\"Helvetica,sans-Serif\" font-size=\"14.00\" fill=\"#000000\">value = [2, 17]</text>\n<text text-anchor=\"middle\" x=\"239\" y=\"-230.8\" font-family=\"Helvetica,sans-Serif\" font-size=\"14.00\" fill=\"#000000\">class = benign</text>\n</g>\n<!-- 5&#45;&gt;7 -->\n<g id=\"edge7\" class=\"edge\">\n<title>5&#45;&gt;7</title>\n<path fill=\"none\" stroke=\"#000000\" d=\"M239,-341.8796C239,-333.6838 239,-324.9891 239,-316.5013\"/>\n<polygon fill=\"#000000\" stroke=\"#000000\" points=\"242.5001,-316.298 239,-306.2981 235.5001,-316.2981 242.5001,-316.298\"/>\n</g>\n<!-- 8 -->\n<g id=\"node9\" class=\"node\">\n<title>8</title>\n<path fill=\"#45a3e7\" stroke=\"#000000\" d=\"M224.5,-187C224.5,-187 93.5,-187 93.5,-187 87.5,-187 81.5,-181 81.5,-175 81.5,-175 81.5,-116 81.5,-116 81.5,-110 87.5,-104 93.5,-104 93.5,-104 224.5,-104 224.5,-104 230.5,-104 236.5,-110 236.5,-116 236.5,-116 236.5,-175 236.5,-175 236.5,-181 230.5,-187 224.5,-187\"/>\n<text text-anchor=\"middle\" x=\"159\" y=\"-171.8\" font-family=\"Helvetica,sans-Serif\" font-size=\"14.00\" fill=\"#000000\">worst radius &lt;= 16.02</text>\n<text text-anchor=\"middle\" x=\"159\" y=\"-156.8\" font-family=\"Helvetica,sans-Serif\" font-size=\"14.00\" fill=\"#000000\">gini = 0.105</text>\n<text text-anchor=\"middle\" x=\"159\" y=\"-141.8\" font-family=\"Helvetica,sans-Serif\" font-size=\"14.00\" fill=\"#000000\">samples = 18</text>\n<text text-anchor=\"middle\" x=\"159\" y=\"-126.8\" font-family=\"Helvetica,sans-Serif\" font-size=\"14.00\" fill=\"#000000\">value = [1, 17]</text>\n<text text-anchor=\"middle\" x=\"159\" y=\"-111.8\" font-family=\"Helvetica,sans-Serif\" font-size=\"14.00\" fill=\"#000000\">class = benign</text>\n</g>\n<!-- 7&#45;&gt;8 -->\n<g id=\"edge8\" class=\"edge\">\n<title>7&#45;&gt;8</title>\n<path fill=\"none\" stroke=\"#000000\" d=\"M211.0199,-222.8796C205.1469,-214.1434 198.8927,-204.8404 192.8321,-195.8253\"/>\n<polygon fill=\"#000000\" stroke=\"#000000\" points=\"195.5834,-193.6444 187.0995,-187.2981 189.7741,-197.5498 195.5834,-193.6444\"/>\n</g>\n<!-- 11 -->\n<g id=\"node12\" class=\"node\">\n<title>11</title>\n<path fill=\"#e58139\" stroke=\"#000000\" d=\"M371.5,-179.5C371.5,-179.5 266.5,-179.5 266.5,-179.5 260.5,-179.5 254.5,-173.5 254.5,-167.5 254.5,-167.5 254.5,-123.5 254.5,-123.5 254.5,-117.5 260.5,-111.5 266.5,-111.5 266.5,-111.5 371.5,-111.5 371.5,-111.5 377.5,-111.5 383.5,-117.5 383.5,-123.5 383.5,-123.5 383.5,-167.5 383.5,-167.5 383.5,-173.5 377.5,-179.5 371.5,-179.5\"/>\n<text text-anchor=\"middle\" x=\"319\" y=\"-164.3\" font-family=\"Helvetica,sans-Serif\" font-size=\"14.00\" fill=\"#000000\">gini = 0.0</text>\n<text text-anchor=\"middle\" x=\"319\" y=\"-149.3\" font-family=\"Helvetica,sans-Serif\" font-size=\"14.00\" fill=\"#000000\">samples = 1</text>\n<text text-anchor=\"middle\" x=\"319\" y=\"-134.3\" font-family=\"Helvetica,sans-Serif\" font-size=\"14.00\" fill=\"#000000\">value = [1, 0]</text>\n<text text-anchor=\"middle\" x=\"319\" y=\"-119.3\" font-family=\"Helvetica,sans-Serif\" font-size=\"14.00\" fill=\"#000000\">class = malignant</text>\n</g>\n<!-- 7&#45;&gt;11 -->\n<g id=\"edge11\" class=\"edge\">\n<title>7&#45;&gt;11</title>\n<path fill=\"none\" stroke=\"#000000\" d=\"M266.9801,-222.8796C274.5203,-211.6636 282.6887,-199.5131 290.2691,-188.2372\"/>\n<polygon fill=\"#000000\" stroke=\"#000000\" points=\"293.2566,-190.0667 295.9311,-179.8149 287.4473,-186.1612 293.2566,-190.0667\"/>\n</g>\n<!-- 9 -->\n<g id=\"node10\" class=\"node\">\n<title>9</title>\n<path fill=\"#e58139\" stroke=\"#000000\" d=\"M142.5,-68C142.5,-68 37.5,-68 37.5,-68 31.5,-68 25.5,-62 25.5,-56 25.5,-56 25.5,-12 25.5,-12 25.5,-6 31.5,0 37.5,0 37.5,0 142.5,0 142.5,0 148.5,0 154.5,-6 154.5,-12 154.5,-12 154.5,-56 154.5,-56 154.5,-62 148.5,-68 142.5,-68\"/>\n<text text-anchor=\"middle\" x=\"90\" y=\"-52.8\" font-family=\"Helvetica,sans-Serif\" font-size=\"14.00\" fill=\"#000000\">gini = 0.0</text>\n<text text-anchor=\"middle\" x=\"90\" y=\"-37.8\" font-family=\"Helvetica,sans-Serif\" font-size=\"14.00\" fill=\"#000000\">samples = 1</text>\n<text text-anchor=\"middle\" x=\"90\" y=\"-22.8\" font-family=\"Helvetica,sans-Serif\" font-size=\"14.00\" fill=\"#000000\">value = [1, 0]</text>\n<text text-anchor=\"middle\" x=\"90\" y=\"-7.8\" font-family=\"Helvetica,sans-Serif\" font-size=\"14.00\" fill=\"#000000\">class = malignant</text>\n</g>\n<!-- 8&#45;&gt;9 -->\n<g id=\"edge9\" class=\"edge\">\n<title>8&#45;&gt;9</title>\n<path fill=\"none\" stroke=\"#000000\" d=\"M133.3069,-103.9815C127.8469,-95.1585 122.0716,-85.8258 116.5793,-76.9506\"/>\n<polygon fill=\"#000000\" stroke=\"#000000\" points=\"119.442,-74.9254 111.2035,-68.2637 113.4896,-78.609 119.442,-74.9254\"/>\n</g>\n<!-- 10 -->\n<g id=\"node11\" class=\"node\">\n<title>10</title>\n<path fill=\"#399de5\" stroke=\"#000000\" d=\"M271,-68C271,-68 185,-68 185,-68 179,-68 173,-62 173,-56 173,-56 173,-12 173,-12 173,-6 179,0 185,0 185,0 271,0 271,0 277,0 283,-6 283,-12 283,-12 283,-56 283,-56 283,-62 277,-68 271,-68\"/>\n<text text-anchor=\"middle\" x=\"228\" y=\"-52.8\" font-family=\"Helvetica,sans-Serif\" font-size=\"14.00\" fill=\"#000000\">gini = 0.0</text>\n<text text-anchor=\"middle\" x=\"228\" y=\"-37.8\" font-family=\"Helvetica,sans-Serif\" font-size=\"14.00\" fill=\"#000000\">samples = 17</text>\n<text text-anchor=\"middle\" x=\"228\" y=\"-22.8\" font-family=\"Helvetica,sans-Serif\" font-size=\"14.00\" fill=\"#000000\">value = [0, 17]</text>\n<text text-anchor=\"middle\" x=\"228\" y=\"-7.8\" font-family=\"Helvetica,sans-Serif\" font-size=\"14.00\" fill=\"#000000\">class = benign</text>\n</g>\n<!-- 8&#45;&gt;10 -->\n<g id=\"edge10\" class=\"edge\">\n<title>8&#45;&gt;10</title>\n<path fill=\"none\" stroke=\"#000000\" d=\"M184.6931,-103.9815C190.1531,-95.1585 195.9284,-85.8258 201.4207,-76.9506\"/>\n<polygon fill=\"#000000\" stroke=\"#000000\" points=\"204.5104,-78.609 206.7965,-68.2637 198.558,-74.9254 204.5104,-78.609\"/>\n</g>\n<!-- 13 -->\n<g id=\"node14\" class=\"node\">\n<title>13</title>\n<path fill=\"#e58139\" stroke=\"#000000\" d=\"M478.5,-298.5C478.5,-298.5 373.5,-298.5 373.5,-298.5 367.5,-298.5 361.5,-292.5 361.5,-286.5 361.5,-286.5 361.5,-242.5 361.5,-242.5 361.5,-236.5 367.5,-230.5 373.5,-230.5 373.5,-230.5 478.5,-230.5 478.5,-230.5 484.5,-230.5 490.5,-236.5 490.5,-242.5 490.5,-242.5 490.5,-286.5 490.5,-286.5 490.5,-292.5 484.5,-298.5 478.5,-298.5\"/>\n<text text-anchor=\"middle\" x=\"426\" y=\"-283.3\" font-family=\"Helvetica,sans-Serif\" font-size=\"14.00\" fill=\"#000000\">gini = 0.0</text>\n<text text-anchor=\"middle\" x=\"426\" y=\"-268.3\" font-family=\"Helvetica,sans-Serif\" font-size=\"14.00\" fill=\"#000000\">samples = 1</text>\n<text text-anchor=\"middle\" x=\"426\" y=\"-253.3\" font-family=\"Helvetica,sans-Serif\" font-size=\"14.00\" fill=\"#000000\">value = [1, 0]</text>\n<text text-anchor=\"middle\" x=\"426\" y=\"-238.3\" font-family=\"Helvetica,sans-Serif\" font-size=\"14.00\" fill=\"#000000\">class = malignant</text>\n</g>\n<!-- 12&#45;&gt;13 -->\n<g id=\"edge13\" class=\"edge\">\n<title>12&#45;&gt;13</title>\n<path fill=\"none\" stroke=\"#000000\" d=\"M464.3647,-341.8796C458.9128,-330.8835 453.0157,-318.9893 447.5184,-307.9015\"/>\n<polygon fill=\"#000000\" stroke=\"#000000\" points=\"450.5911,-306.2195 443.0133,-298.8149 444.3196,-309.3289 450.5911,-306.2195\"/>\n</g>\n<!-- 14 -->\n<g id=\"node15\" class=\"node\">\n<title>14</title>\n<path fill=\"#399de5\" stroke=\"#000000\" d=\"M607,-298.5C607,-298.5 521,-298.5 521,-298.5 515,-298.5 509,-292.5 509,-286.5 509,-286.5 509,-242.5 509,-242.5 509,-236.5 515,-230.5 521,-230.5 521,-230.5 607,-230.5 607,-230.5 613,-230.5 619,-236.5 619,-242.5 619,-242.5 619,-286.5 619,-286.5 619,-292.5 613,-298.5 607,-298.5\"/>\n<text text-anchor=\"middle\" x=\"564\" y=\"-283.3\" font-family=\"Helvetica,sans-Serif\" font-size=\"14.00\" fill=\"#000000\">gini = 0.0</text>\n<text text-anchor=\"middle\" x=\"564\" y=\"-268.3\" font-family=\"Helvetica,sans-Serif\" font-size=\"14.00\" fill=\"#000000\">samples = 2</text>\n<text text-anchor=\"middle\" x=\"564\" y=\"-253.3\" font-family=\"Helvetica,sans-Serif\" font-size=\"14.00\" fill=\"#000000\">value = [0, 2]</text>\n<text text-anchor=\"middle\" x=\"564\" y=\"-238.3\" font-family=\"Helvetica,sans-Serif\" font-size=\"14.00\" fill=\"#000000\">class = benign</text>\n</g>\n<!-- 12&#45;&gt;14 -->\n<g id=\"edge14\" class=\"edge\">\n<title>12&#45;&gt;14</title>\n<path fill=\"none\" stroke=\"#000000\" d=\"M512.6304,-341.8796C520.0763,-330.6636 528.1425,-318.5131 535.6282,-307.2372\"/>\n<polygon fill=\"#000000\" stroke=\"#000000\" points=\"538.6046,-309.082 541.2195,-298.8149 532.7727,-305.2104 538.6046,-309.082\"/>\n</g>\n<!-- 16 -->\n<g id=\"node17\" class=\"node\">\n<title>16</title>\n<path fill=\"#52a9e8\" stroke=\"#000000\" d=\"M957.5,-544C957.5,-544 786.5,-544 786.5,-544 780.5,-544 774.5,-538 774.5,-532 774.5,-532 774.5,-473 774.5,-473 774.5,-467 780.5,-461 786.5,-461 786.5,-461 957.5,-461 957.5,-461 963.5,-461 969.5,-467 969.5,-473 969.5,-473 969.5,-532 969.5,-532 969.5,-538 963.5,-544 957.5,-544\"/>\n<text text-anchor=\"middle\" x=\"872\" y=\"-528.8\" font-family=\"Helvetica,sans-Serif\" font-size=\"14.00\" fill=\"#000000\">worst smoothness &lt;= 0.171</text>\n<text text-anchor=\"middle\" x=\"872\" y=\"-513.8\" font-family=\"Helvetica,sans-Serif\" font-size=\"14.00\" fill=\"#000000\">gini = 0.198</text>\n<text text-anchor=\"middle\" x=\"872\" y=\"-498.8\" font-family=\"Helvetica,sans-Serif\" font-size=\"14.00\" fill=\"#000000\">samples = 18</text>\n<text text-anchor=\"middle\" x=\"872\" y=\"-483.8\" font-family=\"Helvetica,sans-Serif\" font-size=\"14.00\" fill=\"#000000\">value = [2, 16]</text>\n<text text-anchor=\"middle\" x=\"872\" y=\"-468.8\" font-family=\"Helvetica,sans-Serif\" font-size=\"14.00\" fill=\"#000000\">class = benign</text>\n</g>\n<!-- 15&#45;&gt;16 -->\n<g id=\"edge16\" class=\"edge\">\n<title>15&#45;&gt;16</title>\n<path fill=\"none\" stroke=\"#000000\" d=\"M929.2219,-579.8796C922.6949,-571.0534 915.7401,-561.6485 909.0092,-552.5466\"/>\n<polygon fill=\"#000000\" stroke=\"#000000\" points=\"911.6695,-550.2574 902.9095,-544.2981 906.0412,-554.4195 911.6695,-550.2574\"/>\n</g>\n<!-- 23 -->\n<g id=\"node24\" class=\"node\">\n<title>23</title>\n<path fill=\"#e89152\" stroke=\"#000000\" d=\"M1172.5,-544C1172.5,-544 999.5,-544 999.5,-544 993.5,-544 987.5,-538 987.5,-532 987.5,-532 987.5,-473 987.5,-473 987.5,-467 993.5,-461 999.5,-461 999.5,-461 1172.5,-461 1172.5,-461 1178.5,-461 1184.5,-467 1184.5,-473 1184.5,-473 1184.5,-532 1184.5,-532 1184.5,-538 1178.5,-544 1172.5,-544\"/>\n<text text-anchor=\"middle\" x=\"1086\" y=\"-528.8\" font-family=\"Helvetica,sans-Serif\" font-size=\"14.00\" fill=\"#000000\">mean smoothness &lt;= 0.091</text>\n<text text-anchor=\"middle\" x=\"1086\" y=\"-513.8\" font-family=\"Helvetica,sans-Serif\" font-size=\"14.00\" fill=\"#000000\">gini = 0.198</text>\n<text text-anchor=\"middle\" x=\"1086\" y=\"-498.8\" font-family=\"Helvetica,sans-Serif\" font-size=\"14.00\" fill=\"#000000\">samples = 27</text>\n<text text-anchor=\"middle\" x=\"1086\" y=\"-483.8\" font-family=\"Helvetica,sans-Serif\" font-size=\"14.00\" fill=\"#000000\">value = [24, 3]</text>\n<text text-anchor=\"middle\" x=\"1086\" y=\"-468.8\" font-family=\"Helvetica,sans-Serif\" font-size=\"14.00\" fill=\"#000000\">class = malignant</text>\n</g>\n<!-- 15&#45;&gt;23 -->\n<g id=\"edge23\" class=\"edge\">\n<title>15&#45;&gt;23</title>\n<path fill=\"none\" stroke=\"#000000\" d=\"M1004.0687,-579.8796C1013.7955,-570.6931 1024.1861,-560.8798 1034.1879,-551.4336\"/>\n<polygon fill=\"#000000\" stroke=\"#000000\" points=\"1036.8763,-553.7089 1041.7432,-544.2981 1032.0699,-548.6198 1036.8763,-553.7089\"/>\n</g>\n<!-- 17 -->\n<g id=\"node18\" class=\"node\">\n<title>17</title>\n<path fill=\"#45a3e7\" stroke=\"#000000\" d=\"M802,-425C802,-425 652,-425 652,-425 646,-425 640,-419 640,-413 640,-413 640,-354 640,-354 640,-348 646,-342 652,-342 652,-342 802,-342 802,-342 808,-342 814,-348 814,-354 814,-354 814,-413 814,-413 814,-419 808,-425 802,-425\"/>\n<text text-anchor=\"middle\" x=\"727\" y=\"-409.8\" font-family=\"Helvetica,sans-Serif\" font-size=\"14.00\" fill=\"#000000\">symmetry error &lt;= 0.012</text>\n<text text-anchor=\"middle\" x=\"727\" y=\"-394.8\" font-family=\"Helvetica,sans-Serif\" font-size=\"14.00\" fill=\"#000000\">gini = 0.111</text>\n<text text-anchor=\"middle\" x=\"727\" y=\"-379.8\" font-family=\"Helvetica,sans-Serif\" font-size=\"14.00\" fill=\"#000000\">samples = 17</text>\n<text text-anchor=\"middle\" x=\"727\" y=\"-364.8\" font-family=\"Helvetica,sans-Serif\" font-size=\"14.00\" fill=\"#000000\">value = [1, 16]</text>\n<text text-anchor=\"middle\" x=\"727\" y=\"-349.8\" font-family=\"Helvetica,sans-Serif\" font-size=\"14.00\" fill=\"#000000\">class = benign</text>\n</g>\n<!-- 16&#45;&gt;17 -->\n<g id=\"edge17\" class=\"edge\">\n<title>16&#45;&gt;17</title>\n<path fill=\"none\" stroke=\"#000000\" d=\"M821.286,-460.8796C809.873,-451.513 797.6659,-441.4948 785.9485,-431.8784\"/>\n<polygon fill=\"#000000\" stroke=\"#000000\" points=\"787.8809,-428.9366 777.9304,-425.2981 783.4401,-434.3476 787.8809,-428.9366\"/>\n</g>\n<!-- 22 -->\n<g id=\"node23\" class=\"node\">\n<title>22</title>\n<path fill=\"#e58139\" stroke=\"#000000\" d=\"M949.5,-417.5C949.5,-417.5 844.5,-417.5 844.5,-417.5 838.5,-417.5 832.5,-411.5 832.5,-405.5 832.5,-405.5 832.5,-361.5 832.5,-361.5 832.5,-355.5 838.5,-349.5 844.5,-349.5 844.5,-349.5 949.5,-349.5 949.5,-349.5 955.5,-349.5 961.5,-355.5 961.5,-361.5 961.5,-361.5 961.5,-405.5 961.5,-405.5 961.5,-411.5 955.5,-417.5 949.5,-417.5\"/>\n<text text-anchor=\"middle\" x=\"897\" y=\"-402.3\" font-family=\"Helvetica,sans-Serif\" font-size=\"14.00\" fill=\"#000000\">gini = 0.0</text>\n<text text-anchor=\"middle\" x=\"897\" y=\"-387.3\" font-family=\"Helvetica,sans-Serif\" font-size=\"14.00\" fill=\"#000000\">samples = 1</text>\n<text text-anchor=\"middle\" x=\"897\" y=\"-372.3\" font-family=\"Helvetica,sans-Serif\" font-size=\"14.00\" fill=\"#000000\">value = [1, 0]</text>\n<text text-anchor=\"middle\" x=\"897\" y=\"-357.3\" font-family=\"Helvetica,sans-Serif\" font-size=\"14.00\" fill=\"#000000\">class = malignant</text>\n</g>\n<!-- 16&#45;&gt;22 -->\n<g id=\"edge22\" class=\"edge\">\n<title>16&#45;&gt;22</title>\n<path fill=\"none\" stroke=\"#000000\" d=\"M880.7438,-460.8796C882.9846,-450.2134 885.4029,-438.7021 887.6719,-427.9015\"/>\n<polygon fill=\"#000000\" stroke=\"#000000\" points=\"891.1602,-428.3209 889.791,-417.8149 884.3097,-426.8817 891.1602,-428.3209\"/>\n</g>\n<!-- 18 -->\n<g id=\"node19\" class=\"node\">\n<title>18</title>\n<path fill=\"#ffffff\" stroke=\"#000000\" d=\"M780.5,-306C780.5,-306 649.5,-306 649.5,-306 643.5,-306 637.5,-300 637.5,-294 637.5,-294 637.5,-235 637.5,-235 637.5,-229 643.5,-223 649.5,-223 649.5,-223 780.5,-223 780.5,-223 786.5,-223 792.5,-229 792.5,-235 792.5,-235 792.5,-294 792.5,-294 792.5,-300 786.5,-306 780.5,-306\"/>\n<text text-anchor=\"middle\" x=\"715\" y=\"-290.8\" font-family=\"Helvetica,sans-Serif\" font-size=\"14.00\" fill=\"#000000\">mean area &lt;= 665.65</text>\n<text text-anchor=\"middle\" x=\"715\" y=\"-275.8\" font-family=\"Helvetica,sans-Serif\" font-size=\"14.00\" fill=\"#000000\">gini = 0.5</text>\n<text text-anchor=\"middle\" x=\"715\" y=\"-260.8\" font-family=\"Helvetica,sans-Serif\" font-size=\"14.00\" fill=\"#000000\">samples = 2</text>\n<text text-anchor=\"middle\" x=\"715\" y=\"-245.8\" font-family=\"Helvetica,sans-Serif\" font-size=\"14.00\" fill=\"#000000\">value = [1, 1]</text>\n<text text-anchor=\"middle\" x=\"715\" y=\"-230.8\" font-family=\"Helvetica,sans-Serif\" font-size=\"14.00\" fill=\"#000000\">class = malignant</text>\n</g>\n<!-- 17&#45;&gt;18 -->\n<g id=\"edge18\" class=\"edge\">\n<title>17&#45;&gt;18</title>\n<path fill=\"none\" stroke=\"#000000\" d=\"M722.803,-341.8796C721.9765,-333.6838 721.0997,-324.9891 720.2438,-316.5013\"/>\n<polygon fill=\"#000000\" stroke=\"#000000\" points=\"723.7007,-315.8964 719.2149,-306.2981 716.736,-316.5988 723.7007,-315.8964\"/>\n</g>\n<!-- 21 -->\n<g id=\"node22\" class=\"node\">\n<title>21</title>\n<path fill=\"#399de5\" stroke=\"#000000\" d=\"M909,-298.5C909,-298.5 823,-298.5 823,-298.5 817,-298.5 811,-292.5 811,-286.5 811,-286.5 811,-242.5 811,-242.5 811,-236.5 817,-230.5 823,-230.5 823,-230.5 909,-230.5 909,-230.5 915,-230.5 921,-236.5 921,-242.5 921,-242.5 921,-286.5 921,-286.5 921,-292.5 915,-298.5 909,-298.5\"/>\n<text text-anchor=\"middle\" x=\"866\" y=\"-283.3\" font-family=\"Helvetica,sans-Serif\" font-size=\"14.00\" fill=\"#000000\">gini = 0.0</text>\n<text text-anchor=\"middle\" x=\"866\" y=\"-268.3\" font-family=\"Helvetica,sans-Serif\" font-size=\"14.00\" fill=\"#000000\">samples = 15</text>\n<text text-anchor=\"middle\" x=\"866\" y=\"-253.3\" font-family=\"Helvetica,sans-Serif\" font-size=\"14.00\" fill=\"#000000\">value = [0, 15]</text>\n<text text-anchor=\"middle\" x=\"866\" y=\"-238.3\" font-family=\"Helvetica,sans-Serif\" font-size=\"14.00\" fill=\"#000000\">class = benign</text>\n</g>\n<!-- 17&#45;&gt;21 -->\n<g id=\"edge21\" class=\"edge\">\n<title>17&#45;&gt;21</title>\n<path fill=\"none\" stroke=\"#000000\" d=\"M775.6155,-341.8796C789.3587,-330.1138 804.3031,-317.3197 818.0093,-305.5855\"/>\n<polygon fill=\"#000000\" stroke=\"#000000\" points=\"820.5976,-307.9771 825.9178,-298.8149 816.0452,-302.6596 820.5976,-307.9771\"/>\n</g>\n<!-- 19 -->\n<g id=\"node20\" class=\"node\">\n<title>19</title>\n<path fill=\"#e58139\" stroke=\"#000000\" d=\"M698.5,-179.5C698.5,-179.5 593.5,-179.5 593.5,-179.5 587.5,-179.5 581.5,-173.5 581.5,-167.5 581.5,-167.5 581.5,-123.5 581.5,-123.5 581.5,-117.5 587.5,-111.5 593.5,-111.5 593.5,-111.5 698.5,-111.5 698.5,-111.5 704.5,-111.5 710.5,-117.5 710.5,-123.5 710.5,-123.5 710.5,-167.5 710.5,-167.5 710.5,-173.5 704.5,-179.5 698.5,-179.5\"/>\n<text text-anchor=\"middle\" x=\"646\" y=\"-164.3\" font-family=\"Helvetica,sans-Serif\" font-size=\"14.00\" fill=\"#000000\">gini = 0.0</text>\n<text text-anchor=\"middle\" x=\"646\" y=\"-149.3\" font-family=\"Helvetica,sans-Serif\" font-size=\"14.00\" fill=\"#000000\">samples = 1</text>\n<text text-anchor=\"middle\" x=\"646\" y=\"-134.3\" font-family=\"Helvetica,sans-Serif\" font-size=\"14.00\" fill=\"#000000\">value = [1, 0]</text>\n<text text-anchor=\"middle\" x=\"646\" y=\"-119.3\" font-family=\"Helvetica,sans-Serif\" font-size=\"14.00\" fill=\"#000000\">class = malignant</text>\n</g>\n<!-- 18&#45;&gt;19 -->\n<g id=\"edge19\" class=\"edge\">\n<title>18&#45;&gt;19</title>\n<path fill=\"none\" stroke=\"#000000\" d=\"M690.8671,-222.8796C684.4275,-211.7735 677.4566,-199.7513 670.9729,-188.5691\"/>\n<polygon fill=\"#000000\" stroke=\"#000000\" points=\"673.9409,-186.7102 665.8969,-179.8149 667.8852,-190.2215 673.9409,-186.7102\"/>\n</g>\n<!-- 20 -->\n<g id=\"node21\" class=\"node\">\n<title>20</title>\n<path fill=\"#399de5\" stroke=\"#000000\" d=\"M827,-179.5C827,-179.5 741,-179.5 741,-179.5 735,-179.5 729,-173.5 729,-167.5 729,-167.5 729,-123.5 729,-123.5 729,-117.5 735,-111.5 741,-111.5 741,-111.5 827,-111.5 827,-111.5 833,-111.5 839,-117.5 839,-123.5 839,-123.5 839,-167.5 839,-167.5 839,-173.5 833,-179.5 827,-179.5\"/>\n<text text-anchor=\"middle\" x=\"784\" y=\"-164.3\" font-family=\"Helvetica,sans-Serif\" font-size=\"14.00\" fill=\"#000000\">gini = 0.0</text>\n<text text-anchor=\"middle\" x=\"784\" y=\"-149.3\" font-family=\"Helvetica,sans-Serif\" font-size=\"14.00\" fill=\"#000000\">samples = 1</text>\n<text text-anchor=\"middle\" x=\"784\" y=\"-134.3\" font-family=\"Helvetica,sans-Serif\" font-size=\"14.00\" fill=\"#000000\">value = [0, 1]</text>\n<text text-anchor=\"middle\" x=\"784\" y=\"-119.3\" font-family=\"Helvetica,sans-Serif\" font-size=\"14.00\" fill=\"#000000\">class = benign</text>\n</g>\n<!-- 18&#45;&gt;20 -->\n<g id=\"edge20\" class=\"edge\">\n<title>18&#45;&gt;20</title>\n<path fill=\"none\" stroke=\"#000000\" d=\"M739.1329,-222.8796C745.5725,-211.7735 752.5434,-199.7513 759.0271,-188.5691\"/>\n<polygon fill=\"#000000\" stroke=\"#000000\" points=\"762.1148,-190.2215 764.1031,-179.8149 756.0591,-186.7102 762.1148,-190.2215\"/>\n</g>\n<!-- 24 -->\n<g id=\"node25\" class=\"node\">\n<title>24</title>\n<path fill=\"#9ccef2\" stroke=\"#000000\" d=\"M1156,-425C1156,-425 1016,-425 1016,-425 1010,-425 1004,-419 1004,-413 1004,-413 1004,-354 1004,-354 1004,-348 1010,-342 1016,-342 1016,-342 1156,-342 1156,-342 1162,-342 1168,-348 1168,-354 1168,-354 1168,-413 1168,-413 1168,-419 1162,-425 1156,-425\"/>\n<text text-anchor=\"middle\" x=\"1086\" y=\"-409.8\" font-family=\"Helvetica,sans-Serif\" font-size=\"14.00\" fill=\"#000000\">perimeter error &lt;= 2.86</text>\n<text text-anchor=\"middle\" x=\"1086\" y=\"-394.8\" font-family=\"Helvetica,sans-Serif\" font-size=\"14.00\" fill=\"#000000\">gini = 0.444</text>\n<text text-anchor=\"middle\" x=\"1086\" y=\"-379.8\" font-family=\"Helvetica,sans-Serif\" font-size=\"14.00\" fill=\"#000000\">samples = 3</text>\n<text text-anchor=\"middle\" x=\"1086\" y=\"-364.8\" font-family=\"Helvetica,sans-Serif\" font-size=\"14.00\" fill=\"#000000\">value = [1, 2]</text>\n<text text-anchor=\"middle\" x=\"1086\" y=\"-349.8\" font-family=\"Helvetica,sans-Serif\" font-size=\"14.00\" fill=\"#000000\">class = benign</text>\n</g>\n<!-- 23&#45;&gt;24 -->\n<g id=\"edge24\" class=\"edge\">\n<title>23&#45;&gt;24</title>\n<path fill=\"none\" stroke=\"#000000\" d=\"M1086,-460.8796C1086,-452.6838 1086,-443.9891 1086,-435.5013\"/>\n<polygon fill=\"#000000\" stroke=\"#000000\" points=\"1089.5001,-435.298 1086,-425.2981 1082.5001,-435.2981 1089.5001,-435.298\"/>\n</g>\n<!-- 27 -->\n<g id=\"node28\" class=\"node\">\n<title>27</title>\n<path fill=\"#e68642\" stroke=\"#000000\" d=\"M1390.5,-425C1390.5,-425 1211.5,-425 1211.5,-425 1205.5,-425 1199.5,-419 1199.5,-413 1199.5,-413 1199.5,-354 1199.5,-354 1199.5,-348 1205.5,-342 1211.5,-342 1211.5,-342 1390.5,-342 1390.5,-342 1396.5,-342 1402.5,-348 1402.5,-354 1402.5,-354 1402.5,-413 1402.5,-413 1402.5,-419 1396.5,-425 1390.5,-425\"/>\n<text text-anchor=\"middle\" x=\"1301\" y=\"-409.8\" font-family=\"Helvetica,sans-Serif\" font-size=\"14.00\" fill=\"#000000\">worst compactness &lt;= 0.263</text>\n<text text-anchor=\"middle\" x=\"1301\" y=\"-394.8\" font-family=\"Helvetica,sans-Serif\" font-size=\"14.00\" fill=\"#000000\">gini = 0.08</text>\n<text text-anchor=\"middle\" x=\"1301\" y=\"-379.8\" font-family=\"Helvetica,sans-Serif\" font-size=\"14.00\" fill=\"#000000\">samples = 24</text>\n<text text-anchor=\"middle\" x=\"1301\" y=\"-364.8\" font-family=\"Helvetica,sans-Serif\" font-size=\"14.00\" fill=\"#000000\">value = [23, 1]</text>\n<text text-anchor=\"middle\" x=\"1301\" y=\"-349.8\" font-family=\"Helvetica,sans-Serif\" font-size=\"14.00\" fill=\"#000000\">class = malignant</text>\n</g>\n<!-- 23&#45;&gt;27 -->\n<g id=\"edge27\" class=\"edge\">\n<title>23&#45;&gt;27</title>\n<path fill=\"none\" stroke=\"#000000\" d=\"M1161.1966,-460.8796C1179.1997,-450.915 1198.5355,-440.2129 1216.9119,-430.0418\"/>\n<polygon fill=\"#000000\" stroke=\"#000000\" points=\"1218.7916,-433.0018 1225.8459,-425.0969 1215.4017,-426.8773 1218.7916,-433.0018\"/>\n</g>\n<!-- 25 -->\n<g id=\"node26\" class=\"node\">\n<title>25</title>\n<path fill=\"#399de5\" stroke=\"#000000\" d=\"M1037,-298.5C1037,-298.5 951,-298.5 951,-298.5 945,-298.5 939,-292.5 939,-286.5 939,-286.5 939,-242.5 939,-242.5 939,-236.5 945,-230.5 951,-230.5 951,-230.5 1037,-230.5 1037,-230.5 1043,-230.5 1049,-236.5 1049,-242.5 1049,-242.5 1049,-286.5 1049,-286.5 1049,-292.5 1043,-298.5 1037,-298.5\"/>\n<text text-anchor=\"middle\" x=\"994\" y=\"-283.3\" font-family=\"Helvetica,sans-Serif\" font-size=\"14.00\" fill=\"#000000\">gini = 0.0</text>\n<text text-anchor=\"middle\" x=\"994\" y=\"-268.3\" font-family=\"Helvetica,sans-Serif\" font-size=\"14.00\" fill=\"#000000\">samples = 2</text>\n<text text-anchor=\"middle\" x=\"994\" y=\"-253.3\" font-family=\"Helvetica,sans-Serif\" font-size=\"14.00\" fill=\"#000000\">value = [0, 2]</text>\n<text text-anchor=\"middle\" x=\"994\" y=\"-238.3\" font-family=\"Helvetica,sans-Serif\" font-size=\"14.00\" fill=\"#000000\">class = benign</text>\n</g>\n<!-- 24&#45;&gt;25 -->\n<g id=\"edge25\" class=\"edge\">\n<title>24&#45;&gt;25</title>\n<path fill=\"none\" stroke=\"#000000\" d=\"M1053.8229,-341.8796C1045.0667,-330.5536 1035.5738,-318.2748 1026.7844,-306.9058\"/>\n<polygon fill=\"#000000\" stroke=\"#000000\" points=\"1029.4146,-304.5856 1020.5292,-298.8149 1023.8766,-308.8671 1029.4146,-304.5856\"/>\n</g>\n<!-- 26 -->\n<g id=\"node27\" class=\"node\">\n<title>26</title>\n<path fill=\"#e58139\" stroke=\"#000000\" d=\"M1184.5,-298.5C1184.5,-298.5 1079.5,-298.5 1079.5,-298.5 1073.5,-298.5 1067.5,-292.5 1067.5,-286.5 1067.5,-286.5 1067.5,-242.5 1067.5,-242.5 1067.5,-236.5 1073.5,-230.5 1079.5,-230.5 1079.5,-230.5 1184.5,-230.5 1184.5,-230.5 1190.5,-230.5 1196.5,-236.5 1196.5,-242.5 1196.5,-242.5 1196.5,-286.5 1196.5,-286.5 1196.5,-292.5 1190.5,-298.5 1184.5,-298.5\"/>\n<text text-anchor=\"middle\" x=\"1132\" y=\"-283.3\" font-family=\"Helvetica,sans-Serif\" font-size=\"14.00\" fill=\"#000000\">gini = 0.0</text>\n<text text-anchor=\"middle\" x=\"1132\" y=\"-268.3\" font-family=\"Helvetica,sans-Serif\" font-size=\"14.00\" fill=\"#000000\">samples = 1</text>\n<text text-anchor=\"middle\" x=\"1132\" y=\"-253.3\" font-family=\"Helvetica,sans-Serif\" font-size=\"14.00\" fill=\"#000000\">value = [1, 0]</text>\n<text text-anchor=\"middle\" x=\"1132\" y=\"-238.3\" font-family=\"Helvetica,sans-Serif\" font-size=\"14.00\" fill=\"#000000\">class = malignant</text>\n</g>\n<!-- 24&#45;&gt;26 -->\n<g id=\"edge26\" class=\"edge\">\n<title>24&#45;&gt;26</title>\n<path fill=\"none\" stroke=\"#000000\" d=\"M1102.0886,-341.8796C1106.2966,-330.9935 1110.845,-319.227 1115.0943,-308.2344\"/>\n<polygon fill=\"#000000\" stroke=\"#000000\" points=\"1118.3944,-309.4043 1118.7354,-298.8149 1111.8652,-306.8804 1118.3944,-309.4043\"/>\n</g>\n<!-- 28 -->\n<g id=\"node29\" class=\"node\">\n<title>28</title>\n<path fill=\"#ffffff\" stroke=\"#000000\" d=\"M1375,-306C1375,-306 1227,-306 1227,-306 1221,-306 1215,-300 1215,-294 1215,-294 1215,-235 1215,-235 1215,-229 1221,-223 1227,-223 1227,-223 1375,-223 1375,-223 1381,-223 1387,-229 1387,-235 1387,-235 1387,-294 1387,-294 1387,-300 1381,-306 1375,-306\"/>\n<text text-anchor=\"middle\" x=\"1301\" y=\"-290.8\" font-family=\"Helvetica,sans-Serif\" font-size=\"14.00\" fill=\"#000000\">perimeter error &lt;= 1.794</text>\n<text text-anchor=\"middle\" x=\"1301\" y=\"-275.8\" font-family=\"Helvetica,sans-Serif\" font-size=\"14.00\" fill=\"#000000\">gini = 0.5</text>\n<text text-anchor=\"middle\" x=\"1301\" y=\"-260.8\" font-family=\"Helvetica,sans-Serif\" font-size=\"14.00\" fill=\"#000000\">samples = 2</text>\n<text text-anchor=\"middle\" x=\"1301\" y=\"-245.8\" font-family=\"Helvetica,sans-Serif\" font-size=\"14.00\" fill=\"#000000\">value = [1, 1]</text>\n<text text-anchor=\"middle\" x=\"1301\" y=\"-230.8\" font-family=\"Helvetica,sans-Serif\" font-size=\"14.00\" fill=\"#000000\">class = malignant</text>\n</g>\n<!-- 27&#45;&gt;28 -->\n<g id=\"edge28\" class=\"edge\">\n<title>27&#45;&gt;28</title>\n<path fill=\"none\" stroke=\"#000000\" d=\"M1301,-341.8796C1301,-333.6838 1301,-324.9891 1301,-316.5013\"/>\n<polygon fill=\"#000000\" stroke=\"#000000\" points=\"1304.5001,-316.298 1301,-306.2981 1297.5001,-316.2981 1304.5001,-316.298\"/>\n</g>\n<!-- 31 -->\n<g id=\"node32\" class=\"node\">\n<title>31</title>\n<path fill=\"#e58139\" stroke=\"#000000\" d=\"M1522.5,-298.5C1522.5,-298.5 1417.5,-298.5 1417.5,-298.5 1411.5,-298.5 1405.5,-292.5 1405.5,-286.5 1405.5,-286.5 1405.5,-242.5 1405.5,-242.5 1405.5,-236.5 1411.5,-230.5 1417.5,-230.5 1417.5,-230.5 1522.5,-230.5 1522.5,-230.5 1528.5,-230.5 1534.5,-236.5 1534.5,-242.5 1534.5,-242.5 1534.5,-286.5 1534.5,-286.5 1534.5,-292.5 1528.5,-298.5 1522.5,-298.5\"/>\n<text text-anchor=\"middle\" x=\"1470\" y=\"-283.3\" font-family=\"Helvetica,sans-Serif\" font-size=\"14.00\" fill=\"#000000\">gini = 0.0</text>\n<text text-anchor=\"middle\" x=\"1470\" y=\"-268.3\" font-family=\"Helvetica,sans-Serif\" font-size=\"14.00\" fill=\"#000000\">samples = 22</text>\n<text text-anchor=\"middle\" x=\"1470\" y=\"-253.3\" font-family=\"Helvetica,sans-Serif\" font-size=\"14.00\" fill=\"#000000\">value = [22, 0]</text>\n<text text-anchor=\"middle\" x=\"1470\" y=\"-238.3\" font-family=\"Helvetica,sans-Serif\" font-size=\"14.00\" fill=\"#000000\">class = malignant</text>\n</g>\n<!-- 27&#45;&gt;31 -->\n<g id=\"edge31\" class=\"edge\">\n<title>27&#45;&gt;31</title>\n<path fill=\"none\" stroke=\"#000000\" d=\"M1360.108,-341.8796C1377.3677,-329.7263 1396.1856,-316.4759 1413.293,-304.4297\"/>\n<polygon fill=\"#000000\" stroke=\"#000000\" points=\"1415.3782,-307.2421 1421.5396,-298.623 1411.3481,-301.5187 1415.3782,-307.2421\"/>\n</g>\n<!-- 29 -->\n<g id=\"node30\" class=\"node\">\n<title>29</title>\n<path fill=\"#399de5\" stroke=\"#000000\" d=\"M1275,-179.5C1275,-179.5 1189,-179.5 1189,-179.5 1183,-179.5 1177,-173.5 1177,-167.5 1177,-167.5 1177,-123.5 1177,-123.5 1177,-117.5 1183,-111.5 1189,-111.5 1189,-111.5 1275,-111.5 1275,-111.5 1281,-111.5 1287,-117.5 1287,-123.5 1287,-123.5 1287,-167.5 1287,-167.5 1287,-173.5 1281,-179.5 1275,-179.5\"/>\n<text text-anchor=\"middle\" x=\"1232\" y=\"-164.3\" font-family=\"Helvetica,sans-Serif\" font-size=\"14.00\" fill=\"#000000\">gini = 0.0</text>\n<text text-anchor=\"middle\" x=\"1232\" y=\"-149.3\" font-family=\"Helvetica,sans-Serif\" font-size=\"14.00\" fill=\"#000000\">samples = 1</text>\n<text text-anchor=\"middle\" x=\"1232\" y=\"-134.3\" font-family=\"Helvetica,sans-Serif\" font-size=\"14.00\" fill=\"#000000\">value = [0, 1]</text>\n<text text-anchor=\"middle\" x=\"1232\" y=\"-119.3\" font-family=\"Helvetica,sans-Serif\" font-size=\"14.00\" fill=\"#000000\">class = benign</text>\n</g>\n<!-- 28&#45;&gt;29 -->\n<g id=\"edge29\" class=\"edge\">\n<title>28&#45;&gt;29</title>\n<path fill=\"none\" stroke=\"#000000\" d=\"M1276.8671,-222.8796C1270.4275,-211.7735 1263.4566,-199.7513 1256.9729,-188.5691\"/>\n<polygon fill=\"#000000\" stroke=\"#000000\" points=\"1259.9409,-186.7102 1251.8969,-179.8149 1253.8852,-190.2215 1259.9409,-186.7102\"/>\n</g>\n<!-- 30 -->\n<g id=\"node31\" class=\"node\">\n<title>30</title>\n<path fill=\"#e58139\" stroke=\"#000000\" d=\"M1422.5,-179.5C1422.5,-179.5 1317.5,-179.5 1317.5,-179.5 1311.5,-179.5 1305.5,-173.5 1305.5,-167.5 1305.5,-167.5 1305.5,-123.5 1305.5,-123.5 1305.5,-117.5 1311.5,-111.5 1317.5,-111.5 1317.5,-111.5 1422.5,-111.5 1422.5,-111.5 1428.5,-111.5 1434.5,-117.5 1434.5,-123.5 1434.5,-123.5 1434.5,-167.5 1434.5,-167.5 1434.5,-173.5 1428.5,-179.5 1422.5,-179.5\"/>\n<text text-anchor=\"middle\" x=\"1370\" y=\"-164.3\" font-family=\"Helvetica,sans-Serif\" font-size=\"14.00\" fill=\"#000000\">gini = 0.0</text>\n<text text-anchor=\"middle\" x=\"1370\" y=\"-149.3\" font-family=\"Helvetica,sans-Serif\" font-size=\"14.00\" fill=\"#000000\">samples = 1</text>\n<text text-anchor=\"middle\" x=\"1370\" y=\"-134.3\" font-family=\"Helvetica,sans-Serif\" font-size=\"14.00\" fill=\"#000000\">value = [1, 0]</text>\n<text text-anchor=\"middle\" x=\"1370\" y=\"-119.3\" font-family=\"Helvetica,sans-Serif\" font-size=\"14.00\" fill=\"#000000\">class = malignant</text>\n</g>\n<!-- 28&#45;&gt;30 -->\n<g id=\"edge30\" class=\"edge\">\n<title>28&#45;&gt;30</title>\n<path fill=\"none\" stroke=\"#000000\" d=\"M1325.1329,-222.8796C1331.5725,-211.7735 1338.5434,-199.7513 1345.0271,-188.5691\"/>\n<polygon fill=\"#000000\" stroke=\"#000000\" points=\"1348.1148,-190.2215 1350.1031,-179.8149 1342.0591,-186.7102 1348.1148,-190.2215\"/>\n</g>\n<!-- 33 -->\n<g id=\"node34\" class=\"node\">\n<title>33</title>\n<path fill=\"#bddef6\" stroke=\"#000000\" d=\"M1356.5,-663C1356.5,-663 1159.5,-663 1159.5,-663 1153.5,-663 1147.5,-657 1147.5,-651 1147.5,-651 1147.5,-592 1147.5,-592 1147.5,-586 1153.5,-580 1159.5,-580 1159.5,-580 1356.5,-580 1356.5,-580 1362.5,-580 1368.5,-586 1368.5,-592 1368.5,-592 1368.5,-651 1368.5,-651 1368.5,-657 1362.5,-663 1356.5,-663\"/>\n<text text-anchor=\"middle\" x=\"1258\" y=\"-647.8\" font-family=\"Helvetica,sans-Serif\" font-size=\"14.00\" fill=\"#000000\">fractal dimension error &lt;= 0.003</text>\n<text text-anchor=\"middle\" x=\"1258\" y=\"-632.8\" font-family=\"Helvetica,sans-Serif\" font-size=\"14.00\" fill=\"#000000\">gini = 0.48</text>\n<text text-anchor=\"middle\" x=\"1258\" y=\"-617.8\" font-family=\"Helvetica,sans-Serif\" font-size=\"14.00\" fill=\"#000000\">samples = 5</text>\n<text text-anchor=\"middle\" x=\"1258\" y=\"-602.8\" font-family=\"Helvetica,sans-Serif\" font-size=\"14.00\" fill=\"#000000\">value = [2, 3]</text>\n<text text-anchor=\"middle\" x=\"1258\" y=\"-587.8\" font-family=\"Helvetica,sans-Serif\" font-size=\"14.00\" fill=\"#000000\">class = benign</text>\n</g>\n<!-- 32&#45;&gt;33 -->\n<g id=\"edge33\" class=\"edge\">\n<title>32&#45;&gt;33</title>\n<path fill=\"none\" stroke=\"#000000\" d=\"M1258,-698.8796C1258,-690.6838 1258,-681.9891 1258,-673.5013\"/>\n<polygon fill=\"#000000\" stroke=\"#000000\" points=\"1261.5001,-673.298 1258,-663.2981 1254.5001,-673.2981 1261.5001,-673.298\"/>\n</g>\n<!-- 36 -->\n<g id=\"node37\" class=\"node\">\n<title>36</title>\n<path fill=\"#e58139\" stroke=\"#000000\" d=\"M1503.5,-655.5C1503.5,-655.5 1398.5,-655.5 1398.5,-655.5 1392.5,-655.5 1386.5,-649.5 1386.5,-643.5 1386.5,-643.5 1386.5,-599.5 1386.5,-599.5 1386.5,-593.5 1392.5,-587.5 1398.5,-587.5 1398.5,-587.5 1503.5,-587.5 1503.5,-587.5 1509.5,-587.5 1515.5,-593.5 1515.5,-599.5 1515.5,-599.5 1515.5,-643.5 1515.5,-643.5 1515.5,-649.5 1509.5,-655.5 1503.5,-655.5\"/>\n<text text-anchor=\"middle\" x=\"1451\" y=\"-640.3\" font-family=\"Helvetica,sans-Serif\" font-size=\"14.00\" fill=\"#000000\">gini = 0.0</text>\n<text text-anchor=\"middle\" x=\"1451\" y=\"-625.3\" font-family=\"Helvetica,sans-Serif\" font-size=\"14.00\" fill=\"#000000\">samples = 130</text>\n<text text-anchor=\"middle\" x=\"1451\" y=\"-610.3\" font-family=\"Helvetica,sans-Serif\" font-size=\"14.00\" fill=\"#000000\">value = [130, 0]</text>\n<text text-anchor=\"middle\" x=\"1451\" y=\"-595.3\" font-family=\"Helvetica,sans-Serif\" font-size=\"14.00\" fill=\"#000000\">class = malignant</text>\n</g>\n<!-- 32&#45;&gt;36 -->\n<g id=\"edge36\" class=\"edge\">\n<title>32&#45;&gt;36</title>\n<path fill=\"none\" stroke=\"#000000\" d=\"M1325.502,-698.8796C1345.4816,-686.5606 1367.2895,-673.1143 1387.0381,-660.9376\"/>\n<polygon fill=\"#000000\" stroke=\"#000000\" points=\"1388.9825,-663.8507 1395.6576,-655.623 1385.3086,-657.8922 1388.9825,-663.8507\"/>\n</g>\n<!-- 34 -->\n<g id=\"node35\" class=\"node\">\n<title>34</title>\n<path fill=\"#399de5\" stroke=\"#000000\" d=\"M1301,-536.5C1301,-536.5 1215,-536.5 1215,-536.5 1209,-536.5 1203,-530.5 1203,-524.5 1203,-524.5 1203,-480.5 1203,-480.5 1203,-474.5 1209,-468.5 1215,-468.5 1215,-468.5 1301,-468.5 1301,-468.5 1307,-468.5 1313,-474.5 1313,-480.5 1313,-480.5 1313,-524.5 1313,-524.5 1313,-530.5 1307,-536.5 1301,-536.5\"/>\n<text text-anchor=\"middle\" x=\"1258\" y=\"-521.3\" font-family=\"Helvetica,sans-Serif\" font-size=\"14.00\" fill=\"#000000\">gini = 0.0</text>\n<text text-anchor=\"middle\" x=\"1258\" y=\"-506.3\" font-family=\"Helvetica,sans-Serif\" font-size=\"14.00\" fill=\"#000000\">samples = 3</text>\n<text text-anchor=\"middle\" x=\"1258\" y=\"-491.3\" font-family=\"Helvetica,sans-Serif\" font-size=\"14.00\" fill=\"#000000\">value = [0, 3]</text>\n<text text-anchor=\"middle\" x=\"1258\" y=\"-476.3\" font-family=\"Helvetica,sans-Serif\" font-size=\"14.00\" fill=\"#000000\">class = benign</text>\n</g>\n<!-- 33&#45;&gt;34 -->\n<g id=\"edge34\" class=\"edge\">\n<title>33&#45;&gt;34</title>\n<path fill=\"none\" stroke=\"#000000\" d=\"M1258,-579.8796C1258,-569.2134 1258,-557.7021 1258,-546.9015\"/>\n<polygon fill=\"#000000\" stroke=\"#000000\" points=\"1261.5001,-546.8149 1258,-536.8149 1254.5001,-546.815 1261.5001,-546.8149\"/>\n</g>\n<!-- 35 -->\n<g id=\"node36\" class=\"node\">\n<title>35</title>\n<path fill=\"#e58139\" stroke=\"#000000\" d=\"M1448.5,-536.5C1448.5,-536.5 1343.5,-536.5 1343.5,-536.5 1337.5,-536.5 1331.5,-530.5 1331.5,-524.5 1331.5,-524.5 1331.5,-480.5 1331.5,-480.5 1331.5,-474.5 1337.5,-468.5 1343.5,-468.5 1343.5,-468.5 1448.5,-468.5 1448.5,-468.5 1454.5,-468.5 1460.5,-474.5 1460.5,-480.5 1460.5,-480.5 1460.5,-524.5 1460.5,-524.5 1460.5,-530.5 1454.5,-536.5 1448.5,-536.5\"/>\n<text text-anchor=\"middle\" x=\"1396\" y=\"-521.3\" font-family=\"Helvetica,sans-Serif\" font-size=\"14.00\" fill=\"#000000\">gini = 0.0</text>\n<text text-anchor=\"middle\" x=\"1396\" y=\"-506.3\" font-family=\"Helvetica,sans-Serif\" font-size=\"14.00\" fill=\"#000000\">samples = 2</text>\n<text text-anchor=\"middle\" x=\"1396\" y=\"-491.3\" font-family=\"Helvetica,sans-Serif\" font-size=\"14.00\" fill=\"#000000\">value = [2, 0]</text>\n<text text-anchor=\"middle\" x=\"1396\" y=\"-476.3\" font-family=\"Helvetica,sans-Serif\" font-size=\"14.00\" fill=\"#000000\">class = malignant</text>\n</g>\n<!-- 33&#45;&gt;35 -->\n<g id=\"edge35\" class=\"edge\">\n<title>33&#45;&gt;35</title>\n<path fill=\"none\" stroke=\"#000000\" d=\"M1306.2657,-579.8796C1319.9101,-568.1138 1334.7469,-555.3197 1348.3546,-543.5855\"/>\n<polygon fill=\"#000000\" stroke=\"#000000\" points=\"1350.9187,-545.9961 1356.2062,-536.8149 1346.3473,-540.6948 1350.9187,-545.9961\"/>\n</g>\n</g>\n</svg>\n"
          },
          "metadata": {},
          "execution_count": 15
        }
      ]
    },
    {
      "cell_type": "code",
      "source": [
        "from sklearn.tree import export_text\n",
        "r = export_text(decision_tree=decision_tree_model, feature_names=list(cancer.feature_names))\n",
        "print(r)"
      ],
      "metadata": {
        "colab": {
          "base_uri": "https://localhost:8080/"
        },
        "id": "6vn8O4nYzVsX",
        "outputId": "0f2c2037-4001-44d6-8291-e139cc52873c"
      },
      "execution_count": 16,
      "outputs": [
        {
          "output_type": "stream",
          "name": "stdout",
          "text": [
            "|--- worst area <= 874.85\n",
            "|   |--- worst concave points <= 0.13\n",
            "|   |   |--- symmetry error <= 0.01\n",
            "|   |   |   |--- class: 0\n",
            "|   |   |--- symmetry error >  0.01\n",
            "|   |   |   |--- radius error <= 0.64\n",
            "|   |   |   |   |--- worst area <= 785.75\n",
            "|   |   |   |   |   |--- class: 1\n",
            "|   |   |   |   |--- worst area >  785.75\n",
            "|   |   |   |   |   |--- concave points error <= 0.02\n",
            "|   |   |   |   |   |   |--- worst radius <= 16.02\n",
            "|   |   |   |   |   |   |   |--- class: 0\n",
            "|   |   |   |   |   |   |--- worst radius >  16.02\n",
            "|   |   |   |   |   |   |   |--- class: 1\n",
            "|   |   |   |   |   |--- concave points error >  0.02\n",
            "|   |   |   |   |   |   |--- class: 0\n",
            "|   |   |   |--- radius error >  0.64\n",
            "|   |   |   |   |--- mean symmetry <= 0.17\n",
            "|   |   |   |   |   |--- class: 0\n",
            "|   |   |   |   |--- mean symmetry >  0.17\n",
            "|   |   |   |   |   |--- class: 1\n",
            "|   |--- worst concave points >  0.13\n",
            "|   |   |--- worst texture <= 25.67\n",
            "|   |   |   |--- worst smoothness <= 0.17\n",
            "|   |   |   |   |--- symmetry error <= 0.01\n",
            "|   |   |   |   |   |--- mean area <= 665.65\n",
            "|   |   |   |   |   |   |--- class: 0\n",
            "|   |   |   |   |   |--- mean area >  665.65\n",
            "|   |   |   |   |   |   |--- class: 1\n",
            "|   |   |   |   |--- symmetry error >  0.01\n",
            "|   |   |   |   |   |--- class: 1\n",
            "|   |   |   |--- worst smoothness >  0.17\n",
            "|   |   |   |   |--- class: 0\n",
            "|   |   |--- worst texture >  25.67\n",
            "|   |   |   |--- mean smoothness <= 0.09\n",
            "|   |   |   |   |--- perimeter error <= 2.86\n",
            "|   |   |   |   |   |--- class: 1\n",
            "|   |   |   |   |--- perimeter error >  2.86\n",
            "|   |   |   |   |   |--- class: 0\n",
            "|   |   |   |--- mean smoothness >  0.09\n",
            "|   |   |   |   |--- worst compactness <= 0.26\n",
            "|   |   |   |   |   |--- perimeter error <= 1.79\n",
            "|   |   |   |   |   |   |--- class: 1\n",
            "|   |   |   |   |   |--- perimeter error >  1.79\n",
            "|   |   |   |   |   |   |--- class: 0\n",
            "|   |   |   |   |--- worst compactness >  0.26\n",
            "|   |   |   |   |   |--- class: 0\n",
            "|--- worst area >  874.85\n",
            "|   |--- mean texture <= 14.99\n",
            "|   |   |--- fractal dimension error <= 0.00\n",
            "|   |   |   |--- class: 1\n",
            "|   |   |--- fractal dimension error >  0.00\n",
            "|   |   |   |--- class: 0\n",
            "|   |--- mean texture >  14.99\n",
            "|   |   |--- class: 0\n",
            "\n"
          ]
        }
      ]
    },
    {
      "cell_type": "code",
      "source": [
        "def plot_feature_importances_cancer(model):\n",
        "    n_features = cancer.data.shape[1]\n",
        "    plt.barh(range(n_features), model.feature_importances_, align='center')\n",
        "    plt.yticks(np.arange(n_features), cancer.feature_names)\n",
        "    plt.xlabel(\"importance\")\n",
        "    plt.ylabel(\"feature\")\n",
        "    plt.ylim(-1, n_features)\n",
        "\n",
        "plot_feature_importances_cancer(decision_tree_model)"
      ],
      "metadata": {
        "colab": {
          "base_uri": "https://localhost:8080/",
          "height": 279
        },
        "id": "K3fW6u12zD2G",
        "outputId": "277cce6f-782b-4ee3-f0ea-3c220df8db83"
      },
      "execution_count": 17,
      "outputs": [
        {
          "output_type": "display_data",
          "data": {
            "text/plain": [
              "<Figure size 432x288 with 1 Axes>"
            ],
            "image/png": "[encoded data removed]"
          },
          "metadata": {
            "needs_background": "light"
          }
        }
      ]
    },
    {
      "cell_type": "code",
      "source": [
        "def plot_feature_importances_cancer(model):\n",
        "    n_features = cancer.data.shape[1]\n",
        "    plt.barh(range(n_features), model.feature_importances_, align='center')\n",
        "    plt.yticks(np.arange(n_features), cancer.feature_names)\n",
        "    plt.xlabel(\"importance\")\n",
        "    plt.ylabel(\"feature\")\n",
        "    plt.ylim(-1, n_features)\n",
        "\n",
        "plot_feature_importances_cancer(xgb_model)"
      ],
      "metadata": {
        "colab": {
          "base_uri": "https://localhost:8080/",
          "height": 279
        },
        "id": "y4syakUVy6EA",
        "outputId": "32c440a4-cf17-43ab-e15f-ea7d142bbb64"
      },
      "execution_count": 18,
      "outputs": [
        {
          "output_type": "display_data",
          "data": {
            "text/plain": [
              "<Figure size 432x288 with 1 Axes>"
            ],
            "image/png": "[encoded data removed]"
          },
          "metadata": {
            "needs_background": "light"
          }
        }
      ]
    },
    {
      "cell_type": "markdown",
      "source": [
        "# 모델 저장"
      ],
      "metadata": {
        "id": "CUAcBpN5W_1O"
      }
    },
    {
      "cell_type": "code",
      "source": [
        "estimator = xgb_model"
      ],
      "metadata": {
        "id": "XkqvOhQdplGC"
      },
      "execution_count": 20,
      "outputs": []
    },
    {
      "cell_type": "code",
      "source": [
        "import pickle\n",
        "\n",
        "with open('mbti_model.dat', 'wb') as f:  # dat는 그냥 의미없음.   # write binary mode\n",
        "  pickle.dump(estimator, f)  # 저장하기"
      ],
      "metadata": {
        "id": "H23k1XsMXAHo"
      },
      "execution_count": 21,
      "outputs": []
    },
    {
      "cell_type": "code",
      "source": [
        "with open('mbti_model.dat', 'rb') as f:\n",
        "  model = pickle.load(f)  # 로드\n",
        "\n",
        "model.score(X_test, y_test)"
      ],
      "metadata": {
        "colab": {
          "base_uri": "https://localhost:8080/"
        },
        "id": "c0dn4bEupUbR",
        "outputId": "7a174187-ab18-453d-a6b2-05af4572e29f"
      },
      "execution_count": 22,
      "outputs": [
        {
          "output_type": "execute_result",
          "data": {
            "text/plain": [
              "0.965034965034965"
            ]
          },
          "metadata": {},
          "execution_count": 22
        }
      ]
    }
  ]
}