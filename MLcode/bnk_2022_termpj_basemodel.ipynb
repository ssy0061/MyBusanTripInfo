{
  "nbformat": 4,
  "nbformat_minor": 0,
  "metadata": {
    "colab": {
      "provenance": [],
      "collapsed_sections": []
    },
    "kernelspec": {
      "name": "python3",
      "display_name": "Python 3"
    },
    "language_info": {
      "name": "python"
    }
  },
  "cells": [
    {
      "cell_type": "markdown",
      "source": [
        "# 라이브러리 로드"
      ],
      "metadata": {
        "id": "dX22YmRsB8f0"
      }
    },
    {
      "cell_type": "code",
      "source": [
        "!apt-get install -y fonts-nanum\n",
        "!fc-cache -fv\n",
        "!rm ~/.cache/matplotlib -rf\n",
        "\n",
        "import matplotlib.font_manager as fm\n",
        "fm.findSystemFonts()  # 한글 폰트 설치용"
      ],
      "metadata": {
        "colab": {
          "base_uri": "https://localhost:8080/"
        },
        "id": "hMKusJLHKlfs",
        "outputId": "a83c5663-dac0-4848-d693-35277413d8ac"
      },
      "execution_count": 83,
      "outputs": [
        {
          "output_type": "stream",
          "name": "stdout",
          "text": [
            "Reading package lists... Done\n",
            "Building dependency tree       \n",
            "Reading state information... Done\n",
            "The following package was automatically installed and is no longer required:\n",
            "  libnvidia-common-460\n",
            "Use 'apt autoremove' to remove it.\n",
            "The following NEW packages will be installed:\n",
            "  fonts-nanum\n",
            "0 upgraded, 1 newly installed, 0 to remove and 20 not upgraded.\n",
            "Need to get 9,604 kB of archives.\n",
            "After this operation, 29.5 MB of additional disk space will be used.\n",
            "Get:1 http://archive.ubuntu.com/ubuntu bionic/universe amd64 fonts-nanum all 20170925-1 [9,604 kB]\n",
            "Fetched 9,604 kB in 1s (7,444 kB/s)\n",
            "Selecting previously unselected package fonts-nanum.\n",
            "(Reading database ... 157604 files and directories currently installed.)\n",
            "Preparing to unpack .../fonts-nanum_20170925-1_all.deb ...\n",
            "Unpacking fonts-nanum (20170925-1) ...\n",
            "Setting up fonts-nanum (20170925-1) ...\n",
            "Processing triggers for fontconfig (2.12.6-0ubuntu2) ...\n",
            "/usr/share/fonts: caching, new cache contents: 0 fonts, 1 dirs\n",
            "/usr/share/fonts/truetype: caching, new cache contents: 0 fonts, 3 dirs\n",
            "/usr/share/fonts/truetype/humor-sans: caching, new cache contents: 1 fonts, 0 dirs\n",
            "/usr/share/fonts/truetype/liberation: caching, new cache contents: 16 fonts, 0 dirs\n",
            "/usr/share/fonts/truetype/nanum: caching, new cache contents: 10 fonts, 0 dirs\n",
            "/usr/local/share/fonts: caching, new cache contents: 0 fonts, 0 dirs\n",
            "/root/.local/share/fonts: skipping, no such directory\n",
            "/root/.fonts: skipping, no such directory\n",
            "/var/cache/fontconfig: cleaning cache directory\n",
            "/root/.cache/fontconfig: not cleaning non-existent cache directory\n",
            "/root/.fontconfig: not cleaning non-existent cache directory\n",
            "fc-cache: succeeded\n"
          ]
        },
        {
          "output_type": "execute_result",
          "data": {
            "text/plain": [
              "['/usr/share/fonts/truetype/liberation/LiberationSerif-Regular.ttf',\n",
              " '/usr/share/fonts/truetype/humor-sans/Humor-Sans.ttf',\n",
              " '/usr/share/fonts/truetype/nanum/NanumSquareRoundB.ttf',\n",
              " '/usr/share/fonts/truetype/liberation/LiberationSansNarrow-BoldItalic.ttf',\n",
              " '/usr/share/fonts/truetype/liberation/LiberationSans-BoldItalic.ttf',\n",
              " '/usr/share/fonts/truetype/nanum/NanumMyeongjo.ttf',\n",
              " '/usr/share/fonts/truetype/nanum/NanumSquareRoundR.ttf',\n",
              " '/usr/share/fonts/truetype/nanum/NanumGothicBold.ttf',\n",
              " '/usr/share/fonts/truetype/liberation/LiberationSerif-Bold.ttf',\n",
              " '/usr/share/fonts/truetype/liberation/LiberationSerif-Italic.ttf',\n",
              " '/usr/share/fonts/truetype/liberation/LiberationMono-Italic.ttf',\n",
              " '/usr/share/fonts/truetype/liberation/LiberationSansNarrow-Bold.ttf',\n",
              " '/usr/share/fonts/truetype/liberation/LiberationSans-Bold.ttf',\n",
              " '/usr/share/fonts/truetype/nanum/NanumSquareR.ttf',\n",
              " '/usr/share/fonts/truetype/liberation/LiberationMono-Bold.ttf',\n",
              " '/usr/share/fonts/truetype/nanum/NanumGothic.ttf',\n",
              " '/usr/share/fonts/truetype/nanum/NanumBarunGothic.ttf',\n",
              " '/usr/share/fonts/truetype/liberation/LiberationSans-Italic.ttf',\n",
              " '/usr/share/fonts/truetype/liberation/LiberationMono-BoldItalic.ttf',\n",
              " '/usr/share/fonts/truetype/liberation/LiberationMono-Regular.ttf',\n",
              " '/usr/share/fonts/truetype/liberation/LiberationSans-Regular.ttf',\n",
              " '/usr/share/fonts/truetype/liberation/LiberationSerif-BoldItalic.ttf',\n",
              " '/usr/share/fonts/truetype/liberation/LiberationSansNarrow-Italic.ttf',\n",
              " '/usr/share/fonts/truetype/nanum/NanumSquareB.ttf',\n",
              " '/usr/share/fonts/truetype/nanum/NanumBarunGothicBold.ttf',\n",
              " '/usr/share/fonts/truetype/liberation/LiberationSansNarrow-Regular.ttf',\n",
              " '/usr/share/fonts/truetype/nanum/NanumMyeongjoBold.ttf']"
            ]
          },
          "metadata": {},
          "execution_count": 83
        }
      ]
    },
    {
      "cell_type": "code",
      "execution_count": 1,
      "metadata": {
        "id": "FjelssmqB3gc"
      },
      "outputs": [],
      "source": [
        "import numpy as np\n",
        "import pandas as pd\n",
        "import matplotlib.pyplot as plt\n",
        "\n",
        "from sklearn.model_selection import train_test_split\n",
        "from sklearn.preprocessing import StandardScaler, MinMaxScaler\n",
        "from sklearn.preprocessing import LabelEncoder\n",
        "\n",
        "import graphviz\n",
        "from sklearn.tree import DecisionTreeClassifier, export_graphviz\n",
        "from sklearn.ensemble import RandomForestClassifier, ExtraTreesClassifier\n",
        "from xgboost import XGBClassifier\n",
        "\n",
        "from sklearn.model_selection import cross_val_score, cross_validate\n",
        "from sklearn.metrics import accuracy_score, f1_score\n",
        "from xgboost import plot_importance # 중요변수 시각화"
      ]
    },
    {
      "cell_type": "markdown",
      "source": [
        "# 데이터 불러오기"
      ],
      "metadata": {
        "id": "mhYaLCjyB_ac"
      }
    },
    {
      "cell_type": "code",
      "source": [
        "data = pd.read_excel('./trans_data.xlsx')\n",
        "data"
      ],
      "metadata": {
        "id": "TwLADko9B-9G",
        "colab": {
          "base_uri": "https://localhost:8080/",
          "height": 238
        },
        "outputId": "5f1e5c9d-3b11-47f8-dcf1-99765dd17bc7"
      },
      "execution_count": 2,
      "outputs": [
        {
          "output_type": "execute_result",
          "data": {
            "text/plain": [
              "  성별  나이대  총 결제 금액  총 결제 건수  건당 평균 결제가격  건당 최대 결제 가격  건당 최소 결제 가격\n",
              "0  여  20대   708000       32       21040        18000         3000\n",
              "1  남  40대  2135000       49       42650       123000        15000\n",
              "2  여  20대   410000       18       18500        34000         1000\n",
              "3  여  30대  1240000       31       31600       113000         9000\n",
              "4  남  30대  3540000       36       37800       132000        23000\n",
              "5  남  20대   425400       27       15400        24500         5600"
            ],
            "text/html": [
              "\n",
              "  <div id=\"df-4e9369a3-cd36-46b8-b2bd-0a04dc393f12\">\n",
              "    <div class=\"colab-df-container\">\n",
              "      <div>\n",
              "<style scoped>\n",
              "    .dataframe tbody tr th:only-of-type {\n",
              "        vertical-align: middle;\n",
              "    }\n",
              "\n",
              "    .dataframe tbody tr th {\n",
              "        vertical-align: top;\n",
              "    }\n",
              "\n",
              "    .dataframe thead th {\n",
              "        text-align: right;\n",
              "    }\n",
              "</style>\n",
              "<table border=\"1\" class=\"dataframe\">\n",
              "  <thead>\n",
              "    <tr style=\"text-align: right;\">\n",
              "      <th></th>\n",
              "      <th>성별</th>\n",
              "      <th>나이대</th>\n",
              "      <th>총 결제 금액</th>\n",
              "      <th>총 결제 건수</th>\n",
              "      <th>건당 평균 결제가격</th>\n",
              "      <th>건당 최대 결제 가격</th>\n",
              "      <th>건당 최소 결제 가격</th>\n",
              "    </tr>\n",
              "  </thead>\n",
              "  <tbody>\n",
              "    <tr>\n",
              "      <th>0</th>\n",
              "      <td>여</td>\n",
              "      <td>20대</td>\n",
              "      <td>708000</td>\n",
              "      <td>32</td>\n",
              "      <td>21040</td>\n",
              "      <td>18000</td>\n",
              "      <td>3000</td>\n",
              "    </tr>\n",
              "    <tr>\n",
              "      <th>1</th>\n",
              "      <td>남</td>\n",
              "      <td>40대</td>\n",
              "      <td>2135000</td>\n",
              "      <td>49</td>\n",
              "      <td>42650</td>\n",
              "      <td>123000</td>\n",
              "      <td>15000</td>\n",
              "    </tr>\n",
              "    <tr>\n",
              "      <th>2</th>\n",
              "      <td>여</td>\n",
              "      <td>20대</td>\n",
              "      <td>410000</td>\n",
              "      <td>18</td>\n",
              "      <td>18500</td>\n",
              "      <td>34000</td>\n",
              "      <td>1000</td>\n",
              "    </tr>\n",
              "    <tr>\n",
              "      <th>3</th>\n",
              "      <td>여</td>\n",
              "      <td>30대</td>\n",
              "      <td>1240000</td>\n",
              "      <td>31</td>\n",
              "      <td>31600</td>\n",
              "      <td>113000</td>\n",
              "      <td>9000</td>\n",
              "    </tr>\n",
              "    <tr>\n",
              "      <th>4</th>\n",
              "      <td>남</td>\n",
              "      <td>30대</td>\n",
              "      <td>3540000</td>\n",
              "      <td>36</td>\n",
              "      <td>37800</td>\n",
              "      <td>132000</td>\n",
              "      <td>23000</td>\n",
              "    </tr>\n",
              "    <tr>\n",
              "      <th>5</th>\n",
              "      <td>남</td>\n",
              "      <td>20대</td>\n",
              "      <td>425400</td>\n",
              "      <td>27</td>\n",
              "      <td>15400</td>\n",
              "      <td>24500</td>\n",
              "      <td>5600</td>\n",
              "    </tr>\n",
              "  </tbody>\n",
              "</table>\n",
              "</div>\n",
              "      <button class=\"colab-df-convert\" onclick=\"convertToInteractive('df-4e9369a3-cd36-46b8-b2bd-0a04dc393f12')\"\n",
              "              title=\"Convert this dataframe to an interactive table.\"\n",
              "              style=\"display:none;\">\n",
              "        \n",
              "  <svg xmlns=\"http://www.w3.org/2000/svg\" height=\"24px\"viewBox=\"0 0 24 24\"\n",
              "       width=\"24px\">\n",
              "    <path d=\"M0 0h24v24H0V0z\" fill=\"none\"/>\n",
              "    <path d=\"M18.56 5.44l.94 2.06.94-2.06 2.06-.94-2.06-.94-.94-2.06-.94 2.06-2.06.94zm-11 1L8.5 8.5l.94-2.06 2.06-.94-2.06-.94L8.5 2.5l-.94 2.06-2.06.94zm10 10l.94 2.06.94-2.06 2.06-.94-2.06-.94-.94-2.06-.94 2.06-2.06.94z\"/><path d=\"M17.41 7.96l-1.37-1.37c-.4-.4-.92-.59-1.43-.59-.52 0-1.04.2-1.43.59L10.3 9.45l-7.72 7.72c-.78.78-.78 2.05 0 2.83L4 21.41c.39.39.9.59 1.41.59.51 0 1.02-.2 1.41-.59l7.78-7.78 2.81-2.81c.8-.78.8-2.07 0-2.86zM5.41 20L4 18.59l7.72-7.72 1.47 1.35L5.41 20z\"/>\n",
              "  </svg>\n",
              "      </button>\n",
              "      \n",
              "  <style>\n",
              "    .colab-df-container {\n",
              "      display:flex;\n",
              "      flex-wrap:wrap;\n",
              "      gap: 12px;\n",
              "    }\n",
              "\n",
              "    .colab-df-convert {\n",
              "      background-color: #E8F0FE;\n",
              "      border: none;\n",
              "      border-radius: 50%;\n",
              "      cursor: pointer;\n",
              "      display: none;\n",
              "      fill: #1967D2;\n",
              "      height: 32px;\n",
              "      padding: 0 0 0 0;\n",
              "      width: 32px;\n",
              "    }\n",
              "\n",
              "    .colab-df-convert:hover {\n",
              "      background-color: #E2EBFA;\n",
              "      box-shadow: 0px 1px 2px rgba(60, 64, 67, 0.3), 0px 1px 3px 1px rgba(60, 64, 67, 0.15);\n",
              "      fill: #174EA6;\n",
              "    }\n",
              "\n",
              "    [theme=dark] .colab-df-convert {\n",
              "      background-color: #3B4455;\n",
              "      fill: #D2E3FC;\n",
              "    }\n",
              "\n",
              "    [theme=dark] .colab-df-convert:hover {\n",
              "      background-color: #434B5C;\n",
              "      box-shadow: 0px 1px 3px 1px rgba(0, 0, 0, 0.15);\n",
              "      filter: drop-shadow(0px 1px 2px rgba(0, 0, 0, 0.3));\n",
              "      fill: #FFFFFF;\n",
              "    }\n",
              "  </style>\n",
              "\n",
              "      <script>\n",
              "        const buttonEl =\n",
              "          document.querySelector('#df-4e9369a3-cd36-46b8-b2bd-0a04dc393f12 button.colab-df-convert');\n",
              "        buttonEl.style.display =\n",
              "          google.colab.kernel.accessAllowed ? 'block' : 'none';\n",
              "\n",
              "        async function convertToInteractive(key) {\n",
              "          const element = document.querySelector('#df-4e9369a3-cd36-46b8-b2bd-0a04dc393f12');\n",
              "          const dataTable =\n",
              "            await google.colab.kernel.invokeFunction('convertToInteractive',\n",
              "                                                     [key], {});\n",
              "          if (!dataTable) return;\n",
              "\n",
              "          const docLinkHtml = 'Like what you see? Visit the ' +\n",
              "            '<a target=\"_blank\" href=https://colab.research.google.com/notebooks/data_table.ipynb>data table notebook</a>'\n",
              "            + ' to learn more about interactive tables.';\n",
              "          element.innerHTML = '';\n",
              "          dataTable['output_type'] = 'display_data';\n",
              "          await google.colab.output.renderOutput(dataTable, element);\n",
              "          const docLink = document.createElement('div');\n",
              "          docLink.innerHTML = docLinkHtml;\n",
              "          element.appendChild(docLink);\n",
              "        }\n",
              "      </script>\n",
              "    </div>\n",
              "  </div>\n",
              "  "
            ]
          },
          "metadata": {},
          "execution_count": 2
        }
      ]
    },
    {
      "cell_type": "code",
      "source": [
        "data.info()"
      ],
      "metadata": {
        "colab": {
          "base_uri": "https://localhost:8080/"
        },
        "id": "xUG83dB4eHfY",
        "outputId": "bb03a7ac-ede4-4503-a457-519ab1d61163"
      },
      "execution_count": 3,
      "outputs": [
        {
          "output_type": "stream",
          "name": "stdout",
          "text": [
            "<class 'pandas.core.frame.DataFrame'>\n",
            "RangeIndex: 6 entries, 0 to 5\n",
            "Data columns (total 7 columns):\n",
            " #   Column       Non-Null Count  Dtype \n",
            "---  ------       --------------  ----- \n",
            " 0   성별           6 non-null      object\n",
            " 1   나이대          6 non-null      object\n",
            " 2   총 결제 금액      6 non-null      int64 \n",
            " 3   총 결제 건수      6 non-null      int64 \n",
            " 4   건당 평균 결제가격   6 non-null      int64 \n",
            " 5   건당 최대 결제 가격  6 non-null      int64 \n",
            " 6   건당 최소 결제 가격  6 non-null      int64 \n",
            "dtypes: int64(5), object(2)\n",
            "memory usage: 464.0+ bytes\n"
          ]
        }
      ]
    },
    {
      "cell_type": "markdown",
      "source": [
        "# 전처리"
      ],
      "metadata": {
        "id": "U62681u4W6Xn"
      }
    },
    {
      "cell_type": "markdown",
      "source": [
        "## 결측치 파악"
      ],
      "metadata": {
        "id": "P5CaB52OZB1-"
      }
    },
    {
      "cell_type": "code",
      "source": [
        "data.isna().sum()"
      ],
      "metadata": {
        "id": "WzvZ1sZwZU_0",
        "colab": {
          "base_uri": "https://localhost:8080/"
        },
        "outputId": "02f653fa-87bb-44da-e9e4-184e00aa9d03"
      },
      "execution_count": 5,
      "outputs": [
        {
          "output_type": "execute_result",
          "data": {
            "text/plain": [
              "성별             0\n",
              "나이대            0\n",
              "총 결제 금액        0\n",
              "총 결제 건수        0\n",
              "건당 평균 결제가격     0\n",
              "건당 최대 결제 가격    0\n",
              "건당 최소 결제 가격    0\n",
              "dtype: int64"
            ]
          },
          "metadata": {},
          "execution_count": 5
        }
      ]
    },
    {
      "cell_type": "markdown",
      "source": [
        "# 데이터 정제 및 파생변수 생성"
      ],
      "metadata": {
        "id": "9KK8jwGlaHnf"
      }
    },
    {
      "cell_type": "code",
      "source": [
        "# 성별 처리\n",
        "lb = LabelEncoder()\n",
        "lb.fit(data['성별'])\n",
        "\n",
        "print(lb.classes_)\n",
        "data['성별'] = lb.transform(data['성별'])\n",
        "data"
      ],
      "metadata": {
        "id": "GhBlj2l7aHSm",
        "colab": {
          "base_uri": "https://localhost:8080/",
          "height": 256
        },
        "outputId": "c49353ad-0728-4c5c-b8ae-da2b307d36c9"
      },
      "execution_count": 6,
      "outputs": [
        {
          "output_type": "stream",
          "name": "stdout",
          "text": [
            "['남' '여']\n"
          ]
        },
        {
          "output_type": "execute_result",
          "data": {
            "text/plain": [
              "   성별  나이대  총 결제 금액  총 결제 건수  건당 평균 결제가격  건당 최대 결제 가격  건당 최소 결제 가격\n",
              "0   1  20대   708000       32       21040        18000         3000\n",
              "1   0  40대  2135000       49       42650       123000        15000\n",
              "2   1  20대   410000       18       18500        34000         1000\n",
              "3   1  30대  1240000       31       31600       113000         9000\n",
              "4   0  30대  3540000       36       37800       132000        23000\n",
              "5   0  20대   425400       27       15400        24500         5600"
            ],
            "text/html": [
              "\n",
              "  <div id=\"df-e0deb7f9-67b4-4334-8fac-c68c80b10b99\">\n",
              "    <div class=\"colab-df-container\">\n",
              "      <div>\n",
              "<style scoped>\n",
              "    .dataframe tbody tr th:only-of-type {\n",
              "        vertical-align: middle;\n",
              "    }\n",
              "\n",
              "    .dataframe tbody tr th {\n",
              "        vertical-align: top;\n",
              "    }\n",
              "\n",
              "    .dataframe thead th {\n",
              "        text-align: right;\n",
              "    }\n",
              "</style>\n",
              "<table border=\"1\" class=\"dataframe\">\n",
              "  <thead>\n",
              "    <tr style=\"text-align: right;\">\n",
              "      <th></th>\n",
              "      <th>성별</th>\n",
              "      <th>나이대</th>\n",
              "      <th>총 결제 금액</th>\n",
              "      <th>총 결제 건수</th>\n",
              "      <th>건당 평균 결제가격</th>\n",
              "      <th>건당 최대 결제 가격</th>\n",
              "      <th>건당 최소 결제 가격</th>\n",
              "    </tr>\n",
              "  </thead>\n",
              "  <tbody>\n",
              "    <tr>\n",
              "      <th>0</th>\n",
              "      <td>1</td>\n",
              "      <td>20대</td>\n",
              "      <td>708000</td>\n",
              "      <td>32</td>\n",
              "      <td>21040</td>\n",
              "      <td>18000</td>\n",
              "      <td>3000</td>\n",
              "    </tr>\n",
              "    <tr>\n",
              "      <th>1</th>\n",
              "      <td>0</td>\n",
              "      <td>40대</td>\n",
              "      <td>2135000</td>\n",
              "      <td>49</td>\n",
              "      <td>42650</td>\n",
              "      <td>123000</td>\n",
              "      <td>15000</td>\n",
              "    </tr>\n",
              "    <tr>\n",
              "      <th>2</th>\n",
              "      <td>1</td>\n",
              "      <td>20대</td>\n",
              "      <td>410000</td>\n",
              "      <td>18</td>\n",
              "      <td>18500</td>\n",
              "      <td>34000</td>\n",
              "      <td>1000</td>\n",
              "    </tr>\n",
              "    <tr>\n",
              "      <th>3</th>\n",
              "      <td>1</td>\n",
              "      <td>30대</td>\n",
              "      <td>1240000</td>\n",
              "      <td>31</td>\n",
              "      <td>31600</td>\n",
              "      <td>113000</td>\n",
              "      <td>9000</td>\n",
              "    </tr>\n",
              "    <tr>\n",
              "      <th>4</th>\n",
              "      <td>0</td>\n",
              "      <td>30대</td>\n",
              "      <td>3540000</td>\n",
              "      <td>36</td>\n",
              "      <td>37800</td>\n",
              "      <td>132000</td>\n",
              "      <td>23000</td>\n",
              "    </tr>\n",
              "    <tr>\n",
              "      <th>5</th>\n",
              "      <td>0</td>\n",
              "      <td>20대</td>\n",
              "      <td>425400</td>\n",
              "      <td>27</td>\n",
              "      <td>15400</td>\n",
              "      <td>24500</td>\n",
              "      <td>5600</td>\n",
              "    </tr>\n",
              "  </tbody>\n",
              "</table>\n",
              "</div>\n",
              "      <button class=\"colab-df-convert\" onclick=\"convertToInteractive('df-e0deb7f9-67b4-4334-8fac-c68c80b10b99')\"\n",
              "              title=\"Convert this dataframe to an interactive table.\"\n",
              "              style=\"display:none;\">\n",
              "        \n",
              "  <svg xmlns=\"http://www.w3.org/2000/svg\" height=\"24px\"viewBox=\"0 0 24 24\"\n",
              "       width=\"24px\">\n",
              "    <path d=\"M0 0h24v24H0V0z\" fill=\"none\"/>\n",
              "    <path d=\"M18.56 5.44l.94 2.06.94-2.06 2.06-.94-2.06-.94-.94-2.06-.94 2.06-2.06.94zm-11 1L8.5 8.5l.94-2.06 2.06-.94-2.06-.94L8.5 2.5l-.94 2.06-2.06.94zm10 10l.94 2.06.94-2.06 2.06-.94-2.06-.94-.94-2.06-.94 2.06-2.06.94z\"/><path d=\"M17.41 7.96l-1.37-1.37c-.4-.4-.92-.59-1.43-.59-.52 0-1.04.2-1.43.59L10.3 9.45l-7.72 7.72c-.78.78-.78 2.05 0 2.83L4 21.41c.39.39.9.59 1.41.59.51 0 1.02-.2 1.41-.59l7.78-7.78 2.81-2.81c.8-.78.8-2.07 0-2.86zM5.41 20L4 18.59l7.72-7.72 1.47 1.35L5.41 20z\"/>\n",
              "  </svg>\n",
              "      </button>\n",
              "      \n",
              "  <style>\n",
              "    .colab-df-container {\n",
              "      display:flex;\n",
              "      flex-wrap:wrap;\n",
              "      gap: 12px;\n",
              "    }\n",
              "\n",
              "    .colab-df-convert {\n",
              "      background-color: #E8F0FE;\n",
              "      border: none;\n",
              "      border-radius: 50%;\n",
              "      cursor: pointer;\n",
              "      display: none;\n",
              "      fill: #1967D2;\n",
              "      height: 32px;\n",
              "      padding: 0 0 0 0;\n",
              "      width: 32px;\n",
              "    }\n",
              "\n",
              "    .colab-df-convert:hover {\n",
              "      background-color: #E2EBFA;\n",
              "      box-shadow: 0px 1px 2px rgba(60, 64, 67, 0.3), 0px 1px 3px 1px rgba(60, 64, 67, 0.15);\n",
              "      fill: #174EA6;\n",
              "    }\n",
              "\n",
              "    [theme=dark] .colab-df-convert {\n",
              "      background-color: #3B4455;\n",
              "      fill: #D2E3FC;\n",
              "    }\n",
              "\n",
              "    [theme=dark] .colab-df-convert:hover {\n",
              "      background-color: #434B5C;\n",
              "      box-shadow: 0px 1px 3px 1px rgba(0, 0, 0, 0.15);\n",
              "      filter: drop-shadow(0px 1px 2px rgba(0, 0, 0, 0.3));\n",
              "      fill: #FFFFFF;\n",
              "    }\n",
              "  </style>\n",
              "\n",
              "      <script>\n",
              "        const buttonEl =\n",
              "          document.querySelector('#df-e0deb7f9-67b4-4334-8fac-c68c80b10b99 button.colab-df-convert');\n",
              "        buttonEl.style.display =\n",
              "          google.colab.kernel.accessAllowed ? 'block' : 'none';\n",
              "\n",
              "        async function convertToInteractive(key) {\n",
              "          const element = document.querySelector('#df-e0deb7f9-67b4-4334-8fac-c68c80b10b99');\n",
              "          const dataTable =\n",
              "            await google.colab.kernel.invokeFunction('convertToInteractive',\n",
              "                                                     [key], {});\n",
              "          if (!dataTable) return;\n",
              "\n",
              "          const docLinkHtml = 'Like what you see? Visit the ' +\n",
              "            '<a target=\"_blank\" href=https://colab.research.google.com/notebooks/data_table.ipynb>data table notebook</a>'\n",
              "            + ' to learn more about interactive tables.';\n",
              "          element.innerHTML = '';\n",
              "          dataTable['output_type'] = 'display_data';\n",
              "          await google.colab.output.renderOutput(dataTable, element);\n",
              "          const docLink = document.createElement('div');\n",
              "          docLink.innerHTML = docLinkHtml;\n",
              "          element.appendChild(docLink);\n",
              "        }\n",
              "      </script>\n",
              "    </div>\n",
              "  </div>\n",
              "  "
            ]
          },
          "metadata": {},
          "execution_count": 6
        }
      ]
    },
    {
      "cell_type": "code",
      "source": [
        "# 나이대 처리\n",
        "data['나이대'] = data['나이대'].str[:-1]\n",
        "data['나이대'].astype('uint8')\n",
        "data"
      ],
      "metadata": {
        "id": "dOvYjH0caK-H",
        "colab": {
          "base_uri": "https://localhost:8080/",
          "height": 238
        },
        "outputId": "eef26f9f-23d6-466a-ef6c-b8ae55daa117"
      },
      "execution_count": 7,
      "outputs": [
        {
          "output_type": "execute_result",
          "data": {
            "text/plain": [
              "   성별 나이대  총 결제 금액  총 결제 건수  건당 평균 결제가격  건당 최대 결제 가격  건당 최소 결제 가격\n",
              "0   1  20   708000       32       21040        18000         3000\n",
              "1   0  40  2135000       49       42650       123000        15000\n",
              "2   1  20   410000       18       18500        34000         1000\n",
              "3   1  30  1240000       31       31600       113000         9000\n",
              "4   0  30  3540000       36       37800       132000        23000\n",
              "5   0  20   425400       27       15400        24500         5600"
            ],
            "text/html": [
              "\n",
              "  <div id=\"df-7d859ec7-986d-4fcc-a60c-27fc416ed538\">\n",
              "    <div class=\"colab-df-container\">\n",
              "      <div>\n",
              "<style scoped>\n",
              "    .dataframe tbody tr th:only-of-type {\n",
              "        vertical-align: middle;\n",
              "    }\n",
              "\n",
              "    .dataframe tbody tr th {\n",
              "        vertical-align: top;\n",
              "    }\n",
              "\n",
              "    .dataframe thead th {\n",
              "        text-align: right;\n",
              "    }\n",
              "</style>\n",
              "<table border=\"1\" class=\"dataframe\">\n",
              "  <thead>\n",
              "    <tr style=\"text-align: right;\">\n",
              "      <th></th>\n",
              "      <th>성별</th>\n",
              "      <th>나이대</th>\n",
              "      <th>총 결제 금액</th>\n",
              "      <th>총 결제 건수</th>\n",
              "      <th>건당 평균 결제가격</th>\n",
              "      <th>건당 최대 결제 가격</th>\n",
              "      <th>건당 최소 결제 가격</th>\n",
              "    </tr>\n",
              "  </thead>\n",
              "  <tbody>\n",
              "    <tr>\n",
              "      <th>0</th>\n",
              "      <td>1</td>\n",
              "      <td>20</td>\n",
              "      <td>708000</td>\n",
              "      <td>32</td>\n",
              "      <td>21040</td>\n",
              "      <td>18000</td>\n",
              "      <td>3000</td>\n",
              "    </tr>\n",
              "    <tr>\n",
              "      <th>1</th>\n",
              "      <td>0</td>\n",
              "      <td>40</td>\n",
              "      <td>2135000</td>\n",
              "      <td>49</td>\n",
              "      <td>42650</td>\n",
              "      <td>123000</td>\n",
              "      <td>15000</td>\n",
              "    </tr>\n",
              "    <tr>\n",
              "      <th>2</th>\n",
              "      <td>1</td>\n",
              "      <td>20</td>\n",
              "      <td>410000</td>\n",
              "      <td>18</td>\n",
              "      <td>18500</td>\n",
              "      <td>34000</td>\n",
              "      <td>1000</td>\n",
              "    </tr>\n",
              "    <tr>\n",
              "      <th>3</th>\n",
              "      <td>1</td>\n",
              "      <td>30</td>\n",
              "      <td>1240000</td>\n",
              "      <td>31</td>\n",
              "      <td>31600</td>\n",
              "      <td>113000</td>\n",
              "      <td>9000</td>\n",
              "    </tr>\n",
              "    <tr>\n",
              "      <th>4</th>\n",
              "      <td>0</td>\n",
              "      <td>30</td>\n",
              "      <td>3540000</td>\n",
              "      <td>36</td>\n",
              "      <td>37800</td>\n",
              "      <td>132000</td>\n",
              "      <td>23000</td>\n",
              "    </tr>\n",
              "    <tr>\n",
              "      <th>5</th>\n",
              "      <td>0</td>\n",
              "      <td>20</td>\n",
              "      <td>425400</td>\n",
              "      <td>27</td>\n",
              "      <td>15400</td>\n",
              "      <td>24500</td>\n",
              "      <td>5600</td>\n",
              "    </tr>\n",
              "  </tbody>\n",
              "</table>\n",
              "</div>\n",
              "      <button class=\"colab-df-convert\" onclick=\"convertToInteractive('df-7d859ec7-986d-4fcc-a60c-27fc416ed538')\"\n",
              "              title=\"Convert this dataframe to an interactive table.\"\n",
              "              style=\"display:none;\">\n",
              "        \n",
              "  <svg xmlns=\"http://www.w3.org/2000/svg\" height=\"24px\"viewBox=\"0 0 24 24\"\n",
              "       width=\"24px\">\n",
              "    <path d=\"M0 0h24v24H0V0z\" fill=\"none\"/>\n",
              "    <path d=\"M18.56 5.44l.94 2.06.94-2.06 2.06-.94-2.06-.94-.94-2.06-.94 2.06-2.06.94zm-11 1L8.5 8.5l.94-2.06 2.06-.94-2.06-.94L8.5 2.5l-.94 2.06-2.06.94zm10 10l.94 2.06.94-2.06 2.06-.94-2.06-.94-.94-2.06-.94 2.06-2.06.94z\"/><path d=\"M17.41 7.96l-1.37-1.37c-.4-.4-.92-.59-1.43-.59-.52 0-1.04.2-1.43.59L10.3 9.45l-7.72 7.72c-.78.78-.78 2.05 0 2.83L4 21.41c.39.39.9.59 1.41.59.51 0 1.02-.2 1.41-.59l7.78-7.78 2.81-2.81c.8-.78.8-2.07 0-2.86zM5.41 20L4 18.59l7.72-7.72 1.47 1.35L5.41 20z\"/>\n",
              "  </svg>\n",
              "      </button>\n",
              "      \n",
              "  <style>\n",
              "    .colab-df-container {\n",
              "      display:flex;\n",
              "      flex-wrap:wrap;\n",
              "      gap: 12px;\n",
              "    }\n",
              "\n",
              "    .colab-df-convert {\n",
              "      background-color: #E8F0FE;\n",
              "      border: none;\n",
              "      border-radius: 50%;\n",
              "      cursor: pointer;\n",
              "      display: none;\n",
              "      fill: #1967D2;\n",
              "      height: 32px;\n",
              "      padding: 0 0 0 0;\n",
              "      width: 32px;\n",
              "    }\n",
              "\n",
              "    .colab-df-convert:hover {\n",
              "      background-color: #E2EBFA;\n",
              "      box-shadow: 0px 1px 2px rgba(60, 64, 67, 0.3), 0px 1px 3px 1px rgba(60, 64, 67, 0.15);\n",
              "      fill: #174EA6;\n",
              "    }\n",
              "\n",
              "    [theme=dark] .colab-df-convert {\n",
              "      background-color: #3B4455;\n",
              "      fill: #D2E3FC;\n",
              "    }\n",
              "\n",
              "    [theme=dark] .colab-df-convert:hover {\n",
              "      background-color: #434B5C;\n",
              "      box-shadow: 0px 1px 3px 1px rgba(0, 0, 0, 0.15);\n",
              "      filter: drop-shadow(0px 1px 2px rgba(0, 0, 0, 0.3));\n",
              "      fill: #FFFFFF;\n",
              "    }\n",
              "  </style>\n",
              "\n",
              "      <script>\n",
              "        const buttonEl =\n",
              "          document.querySelector('#df-7d859ec7-986d-4fcc-a60c-27fc416ed538 button.colab-df-convert');\n",
              "        buttonEl.style.display =\n",
              "          google.colab.kernel.accessAllowed ? 'block' : 'none';\n",
              "\n",
              "        async function convertToInteractive(key) {\n",
              "          const element = document.querySelector('#df-7d859ec7-986d-4fcc-a60c-27fc416ed538');\n",
              "          const dataTable =\n",
              "            await google.colab.kernel.invokeFunction('convertToInteractive',\n",
              "                                                     [key], {});\n",
              "          if (!dataTable) return;\n",
              "\n",
              "          const docLinkHtml = 'Like what you see? Visit the ' +\n",
              "            '<a target=\"_blank\" href=https://colab.research.google.com/notebooks/data_table.ipynb>data table notebook</a>'\n",
              "            + ' to learn more about interactive tables.';\n",
              "          element.innerHTML = '';\n",
              "          dataTable['output_type'] = 'display_data';\n",
              "          await google.colab.output.renderOutput(dataTable, element);\n",
              "          const docLink = document.createElement('div');\n",
              "          docLink.innerHTML = docLinkHtml;\n",
              "          element.appendChild(docLink);\n",
              "        }\n",
              "      </script>\n",
              "    </div>\n",
              "  </div>\n",
              "  "
            ]
          },
          "metadata": {},
          "execution_count": 7
        }
      ]
    },
    {
      "cell_type": "code",
      "source": [
        "# 임시 복제\n",
        "data = pd.concat([data] * 10, ignore_index = True)\n",
        "data.head()"
      ],
      "metadata": {
        "colab": {
          "base_uri": "https://localhost:8080/",
          "height": 206
        },
        "id": "nCeqdfVtfDCh",
        "outputId": "831ff931-83e7-4f96-9898-d2620a461077"
      },
      "execution_count": 8,
      "outputs": [
        {
          "output_type": "execute_result",
          "data": {
            "text/plain": [
              "   성별 나이대  총 결제 금액  총 결제 건수  건당 평균 결제가격  건당 최대 결제 가격  건당 최소 결제 가격\n",
              "0   1  20   708000       32       21040        18000         3000\n",
              "1   0  40  2135000       49       42650       123000        15000\n",
              "2   1  20   410000       18       18500        34000         1000\n",
              "3   1  30  1240000       31       31600       113000         9000\n",
              "4   0  30  3540000       36       37800       132000        23000"
            ],
            "text/html": [
              "\n",
              "  <div id=\"df-0b50933e-8590-4c0f-9756-09217ba3a869\">\n",
              "    <div class=\"colab-df-container\">\n",
              "      <div>\n",
              "<style scoped>\n",
              "    .dataframe tbody tr th:only-of-type {\n",
              "        vertical-align: middle;\n",
              "    }\n",
              "\n",
              "    .dataframe tbody tr th {\n",
              "        vertical-align: top;\n",
              "    }\n",
              "\n",
              "    .dataframe thead th {\n",
              "        text-align: right;\n",
              "    }\n",
              "</style>\n",
              "<table border=\"1\" class=\"dataframe\">\n",
              "  <thead>\n",
              "    <tr style=\"text-align: right;\">\n",
              "      <th></th>\n",
              "      <th>성별</th>\n",
              "      <th>나이대</th>\n",
              "      <th>총 결제 금액</th>\n",
              "      <th>총 결제 건수</th>\n",
              "      <th>건당 평균 결제가격</th>\n",
              "      <th>건당 최대 결제 가격</th>\n",
              "      <th>건당 최소 결제 가격</th>\n",
              "    </tr>\n",
              "  </thead>\n",
              "  <tbody>\n",
              "    <tr>\n",
              "      <th>0</th>\n",
              "      <td>1</td>\n",
              "      <td>20</td>\n",
              "      <td>708000</td>\n",
              "      <td>32</td>\n",
              "      <td>21040</td>\n",
              "      <td>18000</td>\n",
              "      <td>3000</td>\n",
              "    </tr>\n",
              "    <tr>\n",
              "      <th>1</th>\n",
              "      <td>0</td>\n",
              "      <td>40</td>\n",
              "      <td>2135000</td>\n",
              "      <td>49</td>\n",
              "      <td>42650</td>\n",
              "      <td>123000</td>\n",
              "      <td>15000</td>\n",
              "    </tr>\n",
              "    <tr>\n",
              "      <th>2</th>\n",
              "      <td>1</td>\n",
              "      <td>20</td>\n",
              "      <td>410000</td>\n",
              "      <td>18</td>\n",
              "      <td>18500</td>\n",
              "      <td>34000</td>\n",
              "      <td>1000</td>\n",
              "    </tr>\n",
              "    <tr>\n",
              "      <th>3</th>\n",
              "      <td>1</td>\n",
              "      <td>30</td>\n",
              "      <td>1240000</td>\n",
              "      <td>31</td>\n",
              "      <td>31600</td>\n",
              "      <td>113000</td>\n",
              "      <td>9000</td>\n",
              "    </tr>\n",
              "    <tr>\n",
              "      <th>4</th>\n",
              "      <td>0</td>\n",
              "      <td>30</td>\n",
              "      <td>3540000</td>\n",
              "      <td>36</td>\n",
              "      <td>37800</td>\n",
              "      <td>132000</td>\n",
              "      <td>23000</td>\n",
              "    </tr>\n",
              "  </tbody>\n",
              "</table>\n",
              "</div>\n",
              "      <button class=\"colab-df-convert\" onclick=\"convertToInteractive('df-0b50933e-8590-4c0f-9756-09217ba3a869')\"\n",
              "              title=\"Convert this dataframe to an interactive table.\"\n",
              "              style=\"display:none;\">\n",
              "        \n",
              "  <svg xmlns=\"http://www.w3.org/2000/svg\" height=\"24px\"viewBox=\"0 0 24 24\"\n",
              "       width=\"24px\">\n",
              "    <path d=\"M0 0h24v24H0V0z\" fill=\"none\"/>\n",
              "    <path d=\"M18.56 5.44l.94 2.06.94-2.06 2.06-.94-2.06-.94-.94-2.06-.94 2.06-2.06.94zm-11 1L8.5 8.5l.94-2.06 2.06-.94-2.06-.94L8.5 2.5l-.94 2.06-2.06.94zm10 10l.94 2.06.94-2.06 2.06-.94-2.06-.94-.94-2.06-.94 2.06-2.06.94z\"/><path d=\"M17.41 7.96l-1.37-1.37c-.4-.4-.92-.59-1.43-.59-.52 0-1.04.2-1.43.59L10.3 9.45l-7.72 7.72c-.78.78-.78 2.05 0 2.83L4 21.41c.39.39.9.59 1.41.59.51 0 1.02-.2 1.41-.59l7.78-7.78 2.81-2.81c.8-.78.8-2.07 0-2.86zM5.41 20L4 18.59l7.72-7.72 1.47 1.35L5.41 20z\"/>\n",
              "  </svg>\n",
              "      </button>\n",
              "      \n",
              "  <style>\n",
              "    .colab-df-container {\n",
              "      display:flex;\n",
              "      flex-wrap:wrap;\n",
              "      gap: 12px;\n",
              "    }\n",
              "\n",
              "    .colab-df-convert {\n",
              "      background-color: #E8F0FE;\n",
              "      border: none;\n",
              "      border-radius: 50%;\n",
              "      cursor: pointer;\n",
              "      display: none;\n",
              "      fill: #1967D2;\n",
              "      height: 32px;\n",
              "      padding: 0 0 0 0;\n",
              "      width: 32px;\n",
              "    }\n",
              "\n",
              "    .colab-df-convert:hover {\n",
              "      background-color: #E2EBFA;\n",
              "      box-shadow: 0px 1px 2px rgba(60, 64, 67, 0.3), 0px 1px 3px 1px rgba(60, 64, 67, 0.15);\n",
              "      fill: #174EA6;\n",
              "    }\n",
              "\n",
              "    [theme=dark] .colab-df-convert {\n",
              "      background-color: #3B4455;\n",
              "      fill: #D2E3FC;\n",
              "    }\n",
              "\n",
              "    [theme=dark] .colab-df-convert:hover {\n",
              "      background-color: #434B5C;\n",
              "      box-shadow: 0px 1px 3px 1px rgba(0, 0, 0, 0.15);\n",
              "      filter: drop-shadow(0px 1px 2px rgba(0, 0, 0, 0.3));\n",
              "      fill: #FFFFFF;\n",
              "    }\n",
              "  </style>\n",
              "\n",
              "      <script>\n",
              "        const buttonEl =\n",
              "          document.querySelector('#df-0b50933e-8590-4c0f-9756-09217ba3a869 button.colab-df-convert');\n",
              "        buttonEl.style.display =\n",
              "          google.colab.kernel.accessAllowed ? 'block' : 'none';\n",
              "\n",
              "        async function convertToInteractive(key) {\n",
              "          const element = document.querySelector('#df-0b50933e-8590-4c0f-9756-09217ba3a869');\n",
              "          const dataTable =\n",
              "            await google.colab.kernel.invokeFunction('convertToInteractive',\n",
              "                                                     [key], {});\n",
              "          if (!dataTable) return;\n",
              "\n",
              "          const docLinkHtml = 'Like what you see? Visit the ' +\n",
              "            '<a target=\"_blank\" href=https://colab.research.google.com/notebooks/data_table.ipynb>data table notebook</a>'\n",
              "            + ' to learn more about interactive tables.';\n",
              "          element.innerHTML = '';\n",
              "          dataTable['output_type'] = 'display_data';\n",
              "          await google.colab.output.renderOutput(dataTable, element);\n",
              "          const docLink = document.createElement('div');\n",
              "          docLink.innerHTML = docLinkHtml;\n",
              "          element.appendChild(docLink);\n",
              "        }\n",
              "      </script>\n",
              "    </div>\n",
              "  </div>\n",
              "  "
            ]
          },
          "metadata": {},
          "execution_count": 8
        }
      ]
    },
    {
      "cell_type": "code",
      "source": [
        "data['카테고리'] = ['카페', '관광지', '카페', '한식', '중식', '한식'] * 10\n",
        "data.head()"
      ],
      "metadata": {
        "colab": {
          "base_uri": "https://localhost:8080/",
          "height": 206
        },
        "id": "uCVzJvZcgq16",
        "outputId": "028b5a05-a6c0-4f07-be2f-05deb9244991"
      },
      "execution_count": 9,
      "outputs": [
        {
          "output_type": "execute_result",
          "data": {
            "text/plain": [
              "   성별 나이대  총 결제 금액  총 결제 건수  건당 평균 결제가격  건당 최대 결제 가격  건당 최소 결제 가격 카테고리\n",
              "0   1  20   708000       32       21040        18000         3000   카페\n",
              "1   0  40  2135000       49       42650       123000        15000  관광지\n",
              "2   1  20   410000       18       18500        34000         1000   카페\n",
              "3   1  30  1240000       31       31600       113000         9000   한식\n",
              "4   0  30  3540000       36       37800       132000        23000   중식"
            ],
            "text/html": [
              "\n",
              "  <div id=\"df-f5bced45-d1d1-4a46-a28d-a652d1e99c57\">\n",
              "    <div class=\"colab-df-container\">\n",
              "      <div>\n",
              "<style scoped>\n",
              "    .dataframe tbody tr th:only-of-type {\n",
              "        vertical-align: middle;\n",
              "    }\n",
              "\n",
              "    .dataframe tbody tr th {\n",
              "        vertical-align: top;\n",
              "    }\n",
              "\n",
              "    .dataframe thead th {\n",
              "        text-align: right;\n",
              "    }\n",
              "</style>\n",
              "<table border=\"1\" class=\"dataframe\">\n",
              "  <thead>\n",
              "    <tr style=\"text-align: right;\">\n",
              "      <th></th>\n",
              "      <th>성별</th>\n",
              "      <th>나이대</th>\n",
              "      <th>총 결제 금액</th>\n",
              "      <th>총 결제 건수</th>\n",
              "      <th>건당 평균 결제가격</th>\n",
              "      <th>건당 최대 결제 가격</th>\n",
              "      <th>건당 최소 결제 가격</th>\n",
              "      <th>카테고리</th>\n",
              "    </tr>\n",
              "  </thead>\n",
              "  <tbody>\n",
              "    <tr>\n",
              "      <th>0</th>\n",
              "      <td>1</td>\n",
              "      <td>20</td>\n",
              "      <td>708000</td>\n",
              "      <td>32</td>\n",
              "      <td>21040</td>\n",
              "      <td>18000</td>\n",
              "      <td>3000</td>\n",
              "      <td>카페</td>\n",
              "    </tr>\n",
              "    <tr>\n",
              "      <th>1</th>\n",
              "      <td>0</td>\n",
              "      <td>40</td>\n",
              "      <td>2135000</td>\n",
              "      <td>49</td>\n",
              "      <td>42650</td>\n",
              "      <td>123000</td>\n",
              "      <td>15000</td>\n",
              "      <td>관광지</td>\n",
              "    </tr>\n",
              "    <tr>\n",
              "      <th>2</th>\n",
              "      <td>1</td>\n",
              "      <td>20</td>\n",
              "      <td>410000</td>\n",
              "      <td>18</td>\n",
              "      <td>18500</td>\n",
              "      <td>34000</td>\n",
              "      <td>1000</td>\n",
              "      <td>카페</td>\n",
              "    </tr>\n",
              "    <tr>\n",
              "      <th>3</th>\n",
              "      <td>1</td>\n",
              "      <td>30</td>\n",
              "      <td>1240000</td>\n",
              "      <td>31</td>\n",
              "      <td>31600</td>\n",
              "      <td>113000</td>\n",
              "      <td>9000</td>\n",
              "      <td>한식</td>\n",
              "    </tr>\n",
              "    <tr>\n",
              "      <th>4</th>\n",
              "      <td>0</td>\n",
              "      <td>30</td>\n",
              "      <td>3540000</td>\n",
              "      <td>36</td>\n",
              "      <td>37800</td>\n",
              "      <td>132000</td>\n",
              "      <td>23000</td>\n",
              "      <td>중식</td>\n",
              "    </tr>\n",
              "  </tbody>\n",
              "</table>\n",
              "</div>\n",
              "      <button class=\"colab-df-convert\" onclick=\"convertToInteractive('df-f5bced45-d1d1-4a46-a28d-a652d1e99c57')\"\n",
              "              title=\"Convert this dataframe to an interactive table.\"\n",
              "              style=\"display:none;\">\n",
              "        \n",
              "  <svg xmlns=\"http://www.w3.org/2000/svg\" height=\"24px\"viewBox=\"0 0 24 24\"\n",
              "       width=\"24px\">\n",
              "    <path d=\"M0 0h24v24H0V0z\" fill=\"none\"/>\n",
              "    <path d=\"M18.56 5.44l.94 2.06.94-2.06 2.06-.94-2.06-.94-.94-2.06-.94 2.06-2.06.94zm-11 1L8.5 8.5l.94-2.06 2.06-.94-2.06-.94L8.5 2.5l-.94 2.06-2.06.94zm10 10l.94 2.06.94-2.06 2.06-.94-2.06-.94-.94-2.06-.94 2.06-2.06.94z\"/><path d=\"M17.41 7.96l-1.37-1.37c-.4-.4-.92-.59-1.43-.59-.52 0-1.04.2-1.43.59L10.3 9.45l-7.72 7.72c-.78.78-.78 2.05 0 2.83L4 21.41c.39.39.9.59 1.41.59.51 0 1.02-.2 1.41-.59l7.78-7.78 2.81-2.81c.8-.78.8-2.07 0-2.86zM5.41 20L4 18.59l7.72-7.72 1.47 1.35L5.41 20z\"/>\n",
              "  </svg>\n",
              "      </button>\n",
              "      \n",
              "  <style>\n",
              "    .colab-df-container {\n",
              "      display:flex;\n",
              "      flex-wrap:wrap;\n",
              "      gap: 12px;\n",
              "    }\n",
              "\n",
              "    .colab-df-convert {\n",
              "      background-color: #E8F0FE;\n",
              "      border: none;\n",
              "      border-radius: 50%;\n",
              "      cursor: pointer;\n",
              "      display: none;\n",
              "      fill: #1967D2;\n",
              "      height: 32px;\n",
              "      padding: 0 0 0 0;\n",
              "      width: 32px;\n",
              "    }\n",
              "\n",
              "    .colab-df-convert:hover {\n",
              "      background-color: #E2EBFA;\n",
              "      box-shadow: 0px 1px 2px rgba(60, 64, 67, 0.3), 0px 1px 3px 1px rgba(60, 64, 67, 0.15);\n",
              "      fill: #174EA6;\n",
              "    }\n",
              "\n",
              "    [theme=dark] .colab-df-convert {\n",
              "      background-color: #3B4455;\n",
              "      fill: #D2E3FC;\n",
              "    }\n",
              "\n",
              "    [theme=dark] .colab-df-convert:hover {\n",
              "      background-color: #434B5C;\n",
              "      box-shadow: 0px 1px 3px 1px rgba(0, 0, 0, 0.15);\n",
              "      filter: drop-shadow(0px 1px 2px rgba(0, 0, 0, 0.3));\n",
              "      fill: #FFFFFF;\n",
              "    }\n",
              "  </style>\n",
              "\n",
              "      <script>\n",
              "        const buttonEl =\n",
              "          document.querySelector('#df-f5bced45-d1d1-4a46-a28d-a652d1e99c57 button.colab-df-convert');\n",
              "        buttonEl.style.display =\n",
              "          google.colab.kernel.accessAllowed ? 'block' : 'none';\n",
              "\n",
              "        async function convertToInteractive(key) {\n",
              "          const element = document.querySelector('#df-f5bced45-d1d1-4a46-a28d-a652d1e99c57');\n",
              "          const dataTable =\n",
              "            await google.colab.kernel.invokeFunction('convertToInteractive',\n",
              "                                                     [key], {});\n",
              "          if (!dataTable) return;\n",
              "\n",
              "          const docLinkHtml = 'Like what you see? Visit the ' +\n",
              "            '<a target=\"_blank\" href=https://colab.research.google.com/notebooks/data_table.ipynb>data table notebook</a>'\n",
              "            + ' to learn more about interactive tables.';\n",
              "          element.innerHTML = '';\n",
              "          dataTable['output_type'] = 'display_data';\n",
              "          await google.colab.output.renderOutput(dataTable, element);\n",
              "          const docLink = document.createElement('div');\n",
              "          docLink.innerHTML = docLinkHtml;\n",
              "          element.appendChild(docLink);\n",
              "        }\n",
              "      </script>\n",
              "    </div>\n",
              "  </div>\n",
              "  "
            ]
          },
          "metadata": {},
          "execution_count": 9
        }
      ]
    },
    {
      "cell_type": "markdown",
      "source": [
        "## 스케일링"
      ],
      "metadata": {
        "id": "mq7NCvhhZaBG"
      }
    },
    {
      "cell_type": "code",
      "source": [
        "# Tree계열 쓴다면 생략."
      ],
      "metadata": {
        "id": "ZGlB-9gvZbRa"
      },
      "execution_count": 10,
      "outputs": []
    },
    {
      "cell_type": "markdown",
      "source": [
        "## 분할"
      ],
      "metadata": {
        "id": "YjTvqi-DY_3O"
      }
    },
    {
      "cell_type": "code",
      "source": [
        "# sample y\n",
        "y = ['카페', '관광지', '카페', '한식', '중식', '한식'] * 10\n",
        "\n",
        "lb = LabelEncoder()\n",
        "lb.fit(y)\n",
        "print(lb.classes_)\n",
        "\n",
        "y = lb.transform(y)\n",
        "y"
      ],
      "metadata": {
        "colab": {
          "base_uri": "https://localhost:8080/"
        },
        "id": "5W6-YyaUec9G",
        "outputId": "8177e04b-dca0-4f98-9e98-6481d55e9f4c"
      },
      "execution_count": 11,
      "outputs": [
        {
          "output_type": "stream",
          "name": "stdout",
          "text": [
            "['관광지' '중식' '카페' '한식']\n"
          ]
        },
        {
          "output_type": "execute_result",
          "data": {
            "text/plain": [
              "array([2, 0, 2, 3, 1, 3, 2, 0, 2, 3, 1, 3, 2, 0, 2, 3, 1, 3, 2, 0, 2, 3,\n",
              "       1, 3, 2, 0, 2, 3, 1, 3, 2, 0, 2, 3, 1, 3, 2, 0, 2, 3, 1, 3, 2, 0,\n",
              "       2, 3, 1, 3, 2, 0, 2, 3, 1, 3, 2, 0, 2, 3, 1, 3])"
            ]
          },
          "metadata": {},
          "execution_count": 11
        }
      ]
    },
    {
      "cell_type": "code",
      "source": [
        "data.drop(['카테고리'], inplace=True, axis=1)"
      ],
      "metadata": {
        "id": "LDORo2IIIzCU"
      },
      "execution_count": 12,
      "outputs": []
    },
    {
      "cell_type": "code",
      "source": [
        "X_train, X_test, y_train, y_test = train_test_split(data, y)\n",
        "print(X_train.shape, y_train.shape)\n",
        "print(X_test.shape, y_test.shape)"
      ],
      "metadata": {
        "colab": {
          "base_uri": "https://localhost:8080/"
        },
        "id": "dDpr2VpPW7uW",
        "outputId": "3c526e0b-cc92-4cb6-97a6-ca20d3a86dcd"
      },
      "execution_count": 13,
      "outputs": [
        {
          "output_type": "stream",
          "name": "stdout",
          "text": [
            "(45, 7) (45,)\n",
            "(15, 7) (15,)\n"
          ]
        }
      ]
    },
    {
      "cell_type": "markdown",
      "source": [
        "# 모델 학습"
      ],
      "metadata": {
        "id": "K6nWOFH9W76O"
      }
    },
    {
      "cell_type": "code",
      "source": [
        "decision_tree_model = DecisionTreeClassifier()\n",
        "decision_tree_model.fit(X_train, y_train)\n",
        "cross_val = cross_validate(estimator=decision_tree_model, X=X_train, y=y_train, cv=5)\n",
        "\n",
        "print(f\"average test score : {cross_val['test_score'].mean()}\")"
      ],
      "metadata": {
        "colab": {
          "base_uri": "https://localhost:8080/"
        },
        "id": "PrmHGEiqW9so",
        "outputId": "94fde221-9722-4a5f-fd69-8b669e419782"
      },
      "execution_count": 14,
      "outputs": [
        {
          "output_type": "stream",
          "name": "stdout",
          "text": [
            "average test score : 1.0\n"
          ]
        }
      ]
    },
    {
      "cell_type": "code",
      "source": [
        "rf_model = RandomForestClassifier()\n",
        "cross_val = cross_validate(estimator=rf_model, X=X_train, y=y_train, cv=5)\n",
        "print(f\"average test score :\", cross_val['test_score'].mean())"
      ],
      "metadata": {
        "colab": {
          "base_uri": "https://localhost:8080/"
        },
        "id": "53dAn1NTcqsW",
        "outputId": "2835c317-6f95-41c5-81a1-4e92cc046f9c"
      },
      "execution_count": 15,
      "outputs": [
        {
          "output_type": "stream",
          "name": "stdout",
          "text": [
            "average test score : 1.0\n"
          ]
        }
      ]
    },
    {
      "cell_type": "code",
      "source": [
        "et_model = ExtraTreesClassifier()\n",
        "cross_val = cross_validate(estimator=et_model, X=X_train, y=y_train, cv=5)\n",
        "print(f\"average test score :\", cross_val['test_score'].mean())"
      ],
      "metadata": {
        "colab": {
          "base_uri": "https://localhost:8080/"
        },
        "id": "xQxsVEk2dAGg",
        "outputId": "964ac1fc-ff46-40aa-931c-7ce6057e248e"
      },
      "execution_count": 16,
      "outputs": [
        {
          "output_type": "stream",
          "name": "stdout",
          "text": [
            "average test score : 1.0\n"
          ]
        }
      ]
    },
    {
      "cell_type": "code",
      "source": [
        "xgb_model = XGBClassifier()\n",
        "cross_val = cross_validate(estimator=xgb_model, X=X_train, y=y_train, cv=5)\n",
        "print(f\"average test score :\", cross_val['test_score'].mean())"
      ],
      "metadata": {
        "id": "zrkPHCiidEaH",
        "colab": {
          "base_uri": "https://localhost:8080/"
        },
        "outputId": "f034b0e4-5fc6-4b81-ed1f-52a33192d518"
      },
      "execution_count": 17,
      "outputs": [
        {
          "output_type": "stream",
          "name": "stdout",
          "text": [
            "average test score : nan\n"
          ]
        },
        {
          "output_type": "stream",
          "name": "stderr",
          "text": [
            "/usr/local/lib/python3.7/dist-packages/sklearn/model_selection/_validation.py:372: FitFailedWarning: \n",
            "5 fits failed out of a total of 5.\n",
            "The score on these train-test partitions for these parameters will be set to nan.\n",
            "If these failures are not expected, you can try to debug them by setting error_score='raise'.\n",
            "\n",
            "Below are more details about the failures:\n",
            "--------------------------------------------------------------------------------\n",
            "5 fits failed with the following error:\n",
            "Traceback (most recent call last):\n",
            "  File \"/usr/local/lib/python3.7/dist-packages/sklearn/model_selection/_validation.py\", line 680, in _fit_and_score\n",
            "    estimator.fit(X_train, y_train, **fit_params)\n",
            "  File \"/usr/local/lib/python3.7/dist-packages/xgboost/sklearn.py\", line 726, in fit\n",
            "    missing=self.missing, nthread=self.n_jobs)\n",
            "  File \"/usr/local/lib/python3.7/dist-packages/xgboost/core.py\", line 380, in __init__\n",
            "    feature_types)\n",
            "  File \"/usr/local/lib/python3.7/dist-packages/xgboost/core.py\", line 239, in _maybe_pandas_data\n",
            "    raise ValueError(msg + ', '.join(bad_fields))\n",
            "ValueError: DataFrame.dtypes for data must be int, float or bool.\n",
            "                Did not expect the data types in fields 나이대\n",
            "\n",
            "  warnings.warn(some_fits_failed_message, FitFailedWarning)\n"
          ]
        }
      ]
    },
    {
      "cell_type": "code",
      "source": [
        "# 최종 모델 학습\n",
        "\n",
        "decision_tree_model.fit(X_train, y_train)\n",
        "decision_tree_model.score(X_train, y_train), decision_tree_model.score(X_test, y_test)"
      ],
      "metadata": {
        "colab": {
          "base_uri": "https://localhost:8080/"
        },
        "id": "z4NBX2a6eOCu",
        "outputId": "2d75f0f8-18ef-403c-a6ed-869d4be4b8a7"
      },
      "execution_count": 18,
      "outputs": [
        {
          "output_type": "execute_result",
          "data": {
            "text/plain": [
              "(1.0, 1.0)"
            ]
          },
          "metadata": {},
          "execution_count": 18
        }
      ]
    },
    {
      "cell_type": "code",
      "source": [
        "rf_model.fit(X_train, y_train)\n",
        "rf_model.score(X_train, y_train), rf_model.score(X_test, y_test)"
      ],
      "metadata": {
        "colab": {
          "base_uri": "https://localhost:8080/"
        },
        "id": "_KubuCw1ee8A",
        "outputId": "7ccb3667-91fa-4a49-e704-8db44a727111"
      },
      "execution_count": 19,
      "outputs": [
        {
          "output_type": "execute_result",
          "data": {
            "text/plain": [
              "(1.0, 1.0)"
            ]
          },
          "metadata": {},
          "execution_count": 19
        }
      ]
    },
    {
      "cell_type": "code",
      "source": [
        "et_model.fit(X_train, y_train)\n",
        "et_model.score(X_train, y_train), et_model.score(X_test, y_test)"
      ],
      "metadata": {
        "colab": {
          "base_uri": "https://localhost:8080/"
        },
        "id": "T0dkYKzCegBA",
        "outputId": "6dc5475f-48fb-4eec-f1a8-320c3436af43"
      },
      "execution_count": 20,
      "outputs": [
        {
          "output_type": "execute_result",
          "data": {
            "text/plain": [
              "(1.0, 1.0)"
            ]
          },
          "metadata": {},
          "execution_count": 20
        }
      ]
    },
    {
      "cell_type": "code",
      "source": [
        "xgb_model.fit(X_train, y_train)\n",
        "xgb_model.score(X_train, y_train), xgb_model.score(X_test, y_test)"
      ],
      "metadata": {
        "id": "bQZD7vUOegsd"
      },
      "execution_count": null,
      "outputs": []
    },
    {
      "cell_type": "markdown",
      "source": [
        "# 해석"
      ],
      "metadata": {
        "id": "eclO8foVW98-"
      }
    },
    {
      "cell_type": "code",
      "source": [
        "plt.rc('font', family='NanumBarunGothic')\n",
        "\n",
        "dot_data = export_graphviz(decision_tree=decision_tree_model,\n",
        "                           feature_names=data.columns,\n",
        "                           filled=True,\n",
        "                           rounded=True,\n",
        "                           class_names=lb.classes_\n",
        "                           )\n",
        "graph = graphviz.Source(dot_data)\n",
        "graph"
      ],
      "metadata": {
        "colab": {
          "base_uri": "https://localhost:8080/",
          "height": 598
        },
        "id": "YOlE5mKJW-OW",
        "outputId": "4a794209-5bef-446b-f0c7-e73df14d326c"
      },
      "execution_count": 23,
      "outputs": [
        {
          "output_type": "execute_result",
          "data": {
            "text/plain": [
              "<graphviz.files.Source at 0x7fd6cf805710>"
            ],
            "image/svg+xml": "<?xml version=\"1.0\" encoding=\"UTF-8\" standalone=\"no\"?>\n<!DOCTYPE svg PUBLIC \"-//W3C//DTD SVG 1.1//EN\"\n \"http://www.w3.org/Graphics/SVG/1.1/DTD/svg11.dtd\">\n<!-- Generated by graphviz version 2.40.1 (20161225.0304)\n -->\n<!-- Title: Tree Pages: 1 -->\n<svg width=\"473pt\" height=\"433pt\"\n viewBox=\"0.00 0.00 473.00 433.00\" xmlns=\"http://www.w3.org/2000/svg\" xmlns:xlink=\"http://www.w3.org/1999/xlink\">\n<g id=\"graph0\" class=\"graph\" transform=\"scale(1 1) rotate(0) translate(4 429)\">\n<title>Tree</title>\n<polygon fill=\"#ffffff\" stroke=\"transparent\" points=\"-4,4 -4,-429 469,-429 469,4 -4,4\"/>\n<!-- 0 -->\n<g id=\"node1\" class=\"node\">\n<title>0</title>\n<path fill=\"#ffffff\" stroke=\"#000000\" d=\"M240,-425C240,-425 59,-425 59,-425 53,-425 47,-419 47,-413 47,-413 47,-354 47,-354 47,-348 53,-342 59,-342 59,-342 240,-342 240,-342 246,-342 252,-348 252,-354 252,-354 252,-413 252,-413 252,-419 246,-425 240,-425\"/>\n<text text-anchor=\"middle\" x=\"149.5\" y=\"-409.8\" font-family=\"Helvetica,sans-Serif\" font-size=\"14.00\" fill=\"#000000\">건당 최소 결제 가격 &lt;= 4300.0</text>\n<text text-anchor=\"middle\" x=\"149.5\" y=\"-394.8\" font-family=\"Helvetica,sans-Serif\" font-size=\"14.00\" fill=\"#000000\">gini = 0.703</text>\n<text text-anchor=\"middle\" x=\"149.5\" y=\"-379.8\" font-family=\"Helvetica,sans-Serif\" font-size=\"14.00\" fill=\"#000000\">samples = 45</text>\n<text text-anchor=\"middle\" x=\"149.5\" y=\"-364.8\" font-family=\"Helvetica,sans-Serif\" font-size=\"14.00\" fill=\"#000000\">value = [8, 5, 16, 16]</text>\n<text text-anchor=\"middle\" x=\"149.5\" y=\"-349.8\" font-family=\"Helvetica,sans-Serif\" font-size=\"14.00\" fill=\"#000000\">class = 카페</text>\n</g>\n<!-- 1 -->\n<g id=\"node2\" class=\"node\">\n<title>1</title>\n<path fill=\"#399de5\" stroke=\"#000000\" d=\"M127,-298.5C127,-298.5 12,-298.5 12,-298.5 6,-298.5 0,-292.5 0,-286.5 0,-286.5 0,-242.5 0,-242.5 0,-236.5 6,-230.5 12,-230.5 12,-230.5 127,-230.5 127,-230.5 133,-230.5 139,-236.5 139,-242.5 139,-242.5 139,-286.5 139,-286.5 139,-292.5 133,-298.5 127,-298.5\"/>\n<text text-anchor=\"middle\" x=\"69.5\" y=\"-283.3\" font-family=\"Helvetica,sans-Serif\" font-size=\"14.00\" fill=\"#000000\">gini = 0.0</text>\n<text text-anchor=\"middle\" x=\"69.5\" y=\"-268.3\" font-family=\"Helvetica,sans-Serif\" font-size=\"14.00\" fill=\"#000000\">samples = 16</text>\n<text text-anchor=\"middle\" x=\"69.5\" y=\"-253.3\" font-family=\"Helvetica,sans-Serif\" font-size=\"14.00\" fill=\"#000000\">value = [0, 0, 16, 0]</text>\n<text text-anchor=\"middle\" x=\"69.5\" y=\"-238.3\" font-family=\"Helvetica,sans-Serif\" font-size=\"14.00\" fill=\"#000000\">class = 카페</text>\n</g>\n<!-- 0&#45;&gt;1 -->\n<g id=\"edge1\" class=\"edge\">\n<title>0&#45;&gt;1</title>\n<path fill=\"none\" stroke=\"#000000\" d=\"M121.5199,-341.8796C113.9797,-330.6636 105.8113,-318.5131 98.2309,-307.2372\"/>\n<polygon fill=\"#000000\" stroke=\"#000000\" points=\"101.0527,-305.1612 92.5689,-298.8149 95.2434,-309.0667 101.0527,-305.1612\"/>\n<text text-anchor=\"middle\" x=\"87.7608\" y=\"-319.6482\" font-family=\"Helvetica,sans-Serif\" font-size=\"14.00\" fill=\"#000000\">True</text>\n</g>\n<!-- 2 -->\n<g id=\"node3\" class=\"node\">\n<title>2</title>\n<path fill=\"#f0b4f5\" stroke=\"#000000\" d=\"M289.5,-306C289.5,-306 169.5,-306 169.5,-306 163.5,-306 157.5,-300 157.5,-294 157.5,-294 157.5,-235 157.5,-235 157.5,-229 163.5,-223 169.5,-223 169.5,-223 289.5,-223 289.5,-223 295.5,-223 301.5,-229 301.5,-235 301.5,-235 301.5,-294 301.5,-294 301.5,-300 295.5,-306 289.5,-306\"/>\n<text text-anchor=\"middle\" x=\"229.5\" y=\"-290.8\" font-family=\"Helvetica,sans-Serif\" font-size=\"14.00\" fill=\"#000000\">총 결제 건수 &lt;= 33.5</text>\n<text text-anchor=\"middle\" x=\"229.5\" y=\"-275.8\" font-family=\"Helvetica,sans-Serif\" font-size=\"14.00\" fill=\"#000000\">gini = 0.59</text>\n<text text-anchor=\"middle\" x=\"229.5\" y=\"-260.8\" font-family=\"Helvetica,sans-Serif\" font-size=\"14.00\" fill=\"#000000\">samples = 29</text>\n<text text-anchor=\"middle\" x=\"229.5\" y=\"-245.8\" font-family=\"Helvetica,sans-Serif\" font-size=\"14.00\" fill=\"#000000\">value = [8, 5, 0, 16]</text>\n<text text-anchor=\"middle\" x=\"229.5\" y=\"-230.8\" font-family=\"Helvetica,sans-Serif\" font-size=\"14.00\" fill=\"#000000\">class = 한식</text>\n</g>\n<!-- 0&#45;&gt;2 -->\n<g id=\"edge2\" class=\"edge\">\n<title>0&#45;&gt;2</title>\n<path fill=\"none\" stroke=\"#000000\" d=\"M177.4801,-341.8796C183.3531,-333.1434 189.6073,-323.8404 195.6679,-314.8253\"/>\n<polygon fill=\"#000000\" stroke=\"#000000\" points=\"198.7259,-316.5498 201.4005,-306.2981 192.9166,-312.6444 198.7259,-316.5498\"/>\n<text text-anchor=\"middle\" x=\"206.2085\" y=\"-327.1314\" font-family=\"Helvetica,sans-Serif\" font-size=\"14.00\" fill=\"#000000\">False</text>\n</g>\n<!-- 3 -->\n<g id=\"node4\" class=\"node\">\n<title>3</title>\n<path fill=\"#d739e5\" stroke=\"#000000\" d=\"M191,-179.5C191,-179.5 76,-179.5 76,-179.5 70,-179.5 64,-173.5 64,-167.5 64,-167.5 64,-123.5 64,-123.5 64,-117.5 70,-111.5 76,-111.5 76,-111.5 191,-111.5 191,-111.5 197,-111.5 203,-117.5 203,-123.5 203,-123.5 203,-167.5 203,-167.5 203,-173.5 197,-179.5 191,-179.5\"/>\n<text text-anchor=\"middle\" x=\"133.5\" y=\"-164.3\" font-family=\"Helvetica,sans-Serif\" font-size=\"14.00\" fill=\"#000000\">gini = 0.0</text>\n<text text-anchor=\"middle\" x=\"133.5\" y=\"-149.3\" font-family=\"Helvetica,sans-Serif\" font-size=\"14.00\" fill=\"#000000\">samples = 16</text>\n<text text-anchor=\"middle\" x=\"133.5\" y=\"-134.3\" font-family=\"Helvetica,sans-Serif\" font-size=\"14.00\" fill=\"#000000\">value = [0, 0, 0, 16]</text>\n<text text-anchor=\"middle\" x=\"133.5\" y=\"-119.3\" font-family=\"Helvetica,sans-Serif\" font-size=\"14.00\" fill=\"#000000\">class = 한식</text>\n</g>\n<!-- 2&#45;&gt;3 -->\n<g id=\"edge3\" class=\"edge\">\n<title>2&#45;&gt;3</title>\n<path fill=\"none\" stroke=\"#000000\" d=\"M195.9239,-222.8796C186.7869,-211.5536 176.8813,-199.2748 167.7098,-187.9058\"/>\n<polygon fill=\"#000000\" stroke=\"#000000\" points=\"170.1856,-185.4005 161.1826,-179.8149 164.7374,-189.7957 170.1856,-185.4005\"/>\n</g>\n<!-- 4 -->\n<g id=\"node5\" class=\"node\">\n<title>4</title>\n<path fill=\"#f5d0b5\" stroke=\"#000000\" d=\"M418,-187C418,-187 233,-187 233,-187 227,-187 221,-181 221,-175 221,-175 221,-116 221,-116 221,-110 227,-104 233,-104 233,-104 418,-104 418,-104 424,-104 430,-110 430,-116 430,-116 430,-175 430,-175 430,-181 424,-187 418,-187\"/>\n<text text-anchor=\"middle\" x=\"325.5\" y=\"-171.8\" font-family=\"Helvetica,sans-Serif\" font-size=\"14.00\" fill=\"#000000\">건당 평균 결제가격 &lt;= 40225.0</text>\n<text text-anchor=\"middle\" x=\"325.5\" y=\"-156.8\" font-family=\"Helvetica,sans-Serif\" font-size=\"14.00\" fill=\"#000000\">gini = 0.473</text>\n<text text-anchor=\"middle\" x=\"325.5\" y=\"-141.8\" font-family=\"Helvetica,sans-Serif\" font-size=\"14.00\" fill=\"#000000\">samples = 13</text>\n<text text-anchor=\"middle\" x=\"325.5\" y=\"-126.8\" font-family=\"Helvetica,sans-Serif\" font-size=\"14.00\" fill=\"#000000\">value = [8, 5, 0, 0]</text>\n<text text-anchor=\"middle\" x=\"325.5\" y=\"-111.8\" font-family=\"Helvetica,sans-Serif\" font-size=\"14.00\" fill=\"#000000\">class = 관광지</text>\n</g>\n<!-- 2&#45;&gt;4 -->\n<g id=\"edge4\" class=\"edge\">\n<title>2&#45;&gt;4</title>\n<path fill=\"none\" stroke=\"#000000\" d=\"M263.0761,-222.8796C270.2691,-213.9633 277.9384,-204.4565 285.351,-195.268\"/>\n<polygon fill=\"#000000\" stroke=\"#000000\" points=\"288.2258,-197.2788 291.7805,-187.2981 282.7776,-192.8836 288.2258,-197.2788\"/>\n</g>\n<!-- 5 -->\n<g id=\"node6\" class=\"node\">\n<title>5</title>\n<path fill=\"#47e539\" stroke=\"#000000\" d=\"M304,-68C304,-68 197,-68 197,-68 191,-68 185,-62 185,-56 185,-56 185,-12 185,-12 185,-6 191,0 197,0 197,0 304,0 304,0 310,0 316,-6 316,-12 316,-12 316,-56 316,-56 316,-62 310,-68 304,-68\"/>\n<text text-anchor=\"middle\" x=\"250.5\" y=\"-52.8\" font-family=\"Helvetica,sans-Serif\" font-size=\"14.00\" fill=\"#000000\">gini = 0.0</text>\n<text text-anchor=\"middle\" x=\"250.5\" y=\"-37.8\" font-family=\"Helvetica,sans-Serif\" font-size=\"14.00\" fill=\"#000000\">samples = 5</text>\n<text text-anchor=\"middle\" x=\"250.5\" y=\"-22.8\" font-family=\"Helvetica,sans-Serif\" font-size=\"14.00\" fill=\"#000000\">value = [0, 5, 0, 0]</text>\n<text text-anchor=\"middle\" x=\"250.5\" y=\"-7.8\" font-family=\"Helvetica,sans-Serif\" font-size=\"14.00\" fill=\"#000000\">class = 중식</text>\n</g>\n<!-- 4&#45;&gt;5 -->\n<g id=\"edge5\" class=\"edge\">\n<title>4&#45;&gt;5</title>\n<path fill=\"none\" stroke=\"#000000\" d=\"M297.5728,-103.9815C291.5762,-95.0666 285.2296,-85.6313 279.2041,-76.6734\"/>\n<polygon fill=\"#000000\" stroke=\"#000000\" points=\"282.0328,-74.6078 273.5473,-68.2637 276.2245,-78.5147 282.0328,-74.6078\"/>\n</g>\n<!-- 6 -->\n<g id=\"node7\" class=\"node\">\n<title>6</title>\n<path fill=\"#e58139\" stroke=\"#000000\" d=\"M453,-68C453,-68 346,-68 346,-68 340,-68 334,-62 334,-56 334,-56 334,-12 334,-12 334,-6 340,0 346,0 346,0 453,0 453,0 459,0 465,-6 465,-12 465,-12 465,-56 465,-56 465,-62 459,-68 453,-68\"/>\n<text text-anchor=\"middle\" x=\"399.5\" y=\"-52.8\" font-family=\"Helvetica,sans-Serif\" font-size=\"14.00\" fill=\"#000000\">gini = 0.0</text>\n<text text-anchor=\"middle\" x=\"399.5\" y=\"-37.8\" font-family=\"Helvetica,sans-Serif\" font-size=\"14.00\" fill=\"#000000\">samples = 8</text>\n<text text-anchor=\"middle\" x=\"399.5\" y=\"-22.8\" font-family=\"Helvetica,sans-Serif\" font-size=\"14.00\" fill=\"#000000\">value = [8, 0, 0, 0]</text>\n<text text-anchor=\"middle\" x=\"399.5\" y=\"-7.8\" font-family=\"Helvetica,sans-Serif\" font-size=\"14.00\" fill=\"#000000\">class = 관광지</text>\n</g>\n<!-- 4&#45;&gt;6 -->\n<g id=\"edge6\" class=\"edge\">\n<title>4&#45;&gt;6</title>\n<path fill=\"none\" stroke=\"#000000\" d=\"M353.0549,-103.9815C358.9715,-95.0666 365.2335,-85.6313 371.1787,-76.6734\"/>\n<polygon fill=\"#000000\" stroke=\"#000000\" points=\"374.1464,-78.5311 376.76,-68.2637 368.314,-74.6602 374.1464,-78.5311\"/>\n</g>\n</g>\n</svg>\n"
          },
          "metadata": {},
          "execution_count": 23
        }
      ]
    },
    {
      "cell_type": "code",
      "source": [
        "from sklearn.tree import export_text\n",
        "r = export_text(decision_tree=decision_tree_model, feature_names=list(data.columns))\n",
        "print(r)"
      ],
      "metadata": {
        "colab": {
          "base_uri": "https://localhost:8080/"
        },
        "id": "6vn8O4nYzVsX",
        "outputId": "b3b5b1fe-9aac-4c01-c2aa-f18edcf2fc29"
      },
      "execution_count": 24,
      "outputs": [
        {
          "output_type": "stream",
          "name": "stdout",
          "text": [
            "|--- 건당 최소 결제 가격 <= 4300.00\n",
            "|   |--- class: 2\n",
            "|--- 건당 최소 결제 가격 >  4300.00\n",
            "|   |--- 총 결제 건수 <= 33.50\n",
            "|   |   |--- class: 3\n",
            "|   |--- 총 결제 건수 >  33.50\n",
            "|   |   |--- 건당 평균 결제가격 <= 40225.00\n",
            "|   |   |   |--- class: 1\n",
            "|   |   |--- 건당 평균 결제가격 >  40225.00\n",
            "|   |   |   |--- class: 0\n",
            "\n"
          ]
        }
      ]
    },
    {
      "cell_type": "code",
      "source": [
        "def plot_feature_importances_cancer(model):\n",
        "    n_features = data.shape[1]\n",
        "    plt.barh(range(n_features), model.feature_importances_, align='center')\n",
        "    plt.yticks(np.arange(n_features), data.columns)\n",
        "    plt.xlabel(\"importance\")\n",
        "    plt.ylabel(\"feature\")\n",
        "    plt.ylim(-1, n_features)\n",
        "\n",
        "plot_feature_importances_cancer(decision_tree_model)"
      ],
      "metadata": {
        "id": "K3fW6u12zD2G",
        "colab": {
          "base_uri": "https://localhost:8080/",
          "height": 279
        },
        "outputId": "885eeb9f-be79-428a-fc23-459f8ad31e52"
      },
      "execution_count": 25,
      "outputs": [
        {
          "output_type": "display_data",
          "data": {
            "text/plain": [
              "<Figure size 432x288 with 1 Axes>"
            ],
            "image/png": "[encoded data removed]"
          },
          "metadata": {
            "needs_background": "light"
          }
        }
      ]
    },
    {
      "cell_type": "code",
      "source": [
        "def plot_feature_importances_cancer(model):\n",
        "    n_features = data.shape[1]\n",
        "    plt.barh(range(n_features), model.feature_importances_, align='center')\n",
        "    plt.yticks(np.arange(n_features), data.columns)\n",
        "    plt.xlabel(\"importance\")\n",
        "    plt.ylabel(\"feature\")\n",
        "    plt.ylim(-1, n_features)\n",
        "\n",
        "plot_feature_importances_cancer(xgb_model)"
      ],
      "metadata": {
        "id": "y4syakUVy6EA"
      },
      "execution_count": null,
      "outputs": []
    },
    {
      "cell_type": "markdown",
      "source": [
        "# 모델 저장"
      ],
      "metadata": {
        "id": "CUAcBpN5W_1O"
      }
    },
    {
      "cell_type": "code",
      "source": [
        "estimator = et_model"
      ],
      "metadata": {
        "id": "XkqvOhQdplGC"
      },
      "execution_count": 27,
      "outputs": []
    },
    {
      "cell_type": "code",
      "source": [
        "import pickle\n",
        "\n",
        "with open('mbti_model.dat', 'wb') as f:  # dat는 그냥 의미없음.   # write binary mode\n",
        "  pickle.dump(estimator, f)  # 저장하기"
      ],
      "metadata": {
        "id": "H23k1XsMXAHo"
      },
      "execution_count": 28,
      "outputs": []
    },
    {
      "cell_type": "code",
      "source": [
        "with open('mbti_model.dat', 'rb') as f:\n",
        "  model = pickle.load(f)  # 로드\n",
        "\n",
        "model.score(X_test, y_test)"
      ],
      "metadata": {
        "colab": {
          "base_uri": "https://localhost:8080/"
        },
        "id": "c0dn4bEupUbR",
        "outputId": "a29c470a-d5ca-48ad-ce2f-cdfdd3999611"
      },
      "execution_count": 29,
      "outputs": [
        {
          "output_type": "execute_result",
          "data": {
            "text/plain": [
              "1.0"
            ]
          },
          "metadata": {},
          "execution_count": 29
        }
      ]
    }
  ]
}